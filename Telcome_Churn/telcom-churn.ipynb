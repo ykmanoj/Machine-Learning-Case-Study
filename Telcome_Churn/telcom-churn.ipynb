{
 "cells": [
  {
   "cell_type": "code",
   "execution_count": 1,
   "metadata": {},
   "outputs": [],
   "source": [
    "import pandas as pd\n",
    "import numpy as np\n",
    "import matplotlib.pyplot as plt\n",
    "import seaborn as sns\n",
    "import warnings\n",
    "warnings.filterwarnings('ignore')\n",
    "\n",
    "from sklearn.preprocessing import StandardScaler\n",
    "from sklearn.feature_selection import RFE\n",
    "from sklearn.ensemble import RandomForestClassifier\n",
    "from sklearn.pipeline import Pipeline\n",
    "from sklearn.externals import joblib\n",
    "from sklearn import svm\n",
    "from sklearn import tree\n",
    "from sklearn.model_selection import GridSearchCV\n",
    "from sklearn.metrics import accuracy_score\n",
    "\n",
    "from sklearn.model_selection import KFold\n",
    "from sklearn.model_selection import cross_val_score\n",
    "from sklearn.decomposition import PCA\n",
    "\n",
    "from sklearn.linear_model import LogisticRegression\n",
    "from sklearn import metrics\n",
    "from sklearn.metrics import classification_report, confusion_matrix, accuracy_score\n",
    "from sklearn.metrics import confusion_matrix, precision_recall_curve, auc, roc_auc_score, roc_curve, recall_score, classification_report\n",
    "\n",
    "from sklearn.metrics import roc_curve\n",
    "from sklearn.metrics import roc_auc_score\n",
    "from matplotlib import pyplot\n",
    "\n",
    "\n"
   ]
  },
  {
   "cell_type": "code",
   "execution_count": 2,
   "metadata": {},
   "outputs": [
    {
     "name": "stdout",
     "output_type": "stream",
     "text": [
      "/Users/manoj/work/iiit-upgrad/Machine-Learning-Case-Study/Telcome_Churn\n"
     ]
    },
    {
     "data": {
      "text/html": [
       "<div>\n",
       "<style scoped>\n",
       "    .dataframe tbody tr th:only-of-type {\n",
       "        vertical-align: middle;\n",
       "    }\n",
       "\n",
       "    .dataframe tbody tr th {\n",
       "        vertical-align: top;\n",
       "    }\n",
       "\n",
       "    .dataframe thead th {\n",
       "        text-align: right;\n",
       "    }\n",
       "</style>\n",
       "<table border=\"1\" class=\"dataframe\">\n",
       "  <thead>\n",
       "    <tr style=\"text-align: right;\">\n",
       "      <th></th>\n",
       "      <th>mobile_number</th>\n",
       "      <th>circle_id</th>\n",
       "      <th>loc_og_t2o_mou</th>\n",
       "      <th>std_og_t2o_mou</th>\n",
       "      <th>loc_ic_t2o_mou</th>\n",
       "      <th>last_date_of_month_6</th>\n",
       "      <th>last_date_of_month_7</th>\n",
       "      <th>last_date_of_month_8</th>\n",
       "      <th>last_date_of_month_9</th>\n",
       "      <th>arpu_6</th>\n",
       "      <th>...</th>\n",
       "      <th>sachet_3g_9</th>\n",
       "      <th>fb_user_6</th>\n",
       "      <th>fb_user_7</th>\n",
       "      <th>fb_user_8</th>\n",
       "      <th>fb_user_9</th>\n",
       "      <th>aon</th>\n",
       "      <th>aug_vbc_3g</th>\n",
       "      <th>jul_vbc_3g</th>\n",
       "      <th>jun_vbc_3g</th>\n",
       "      <th>sep_vbc_3g</th>\n",
       "    </tr>\n",
       "  </thead>\n",
       "  <tbody>\n",
       "    <tr>\n",
       "      <th>0</th>\n",
       "      <td>7000842753</td>\n",
       "      <td>109</td>\n",
       "      <td>0.0</td>\n",
       "      <td>0.0</td>\n",
       "      <td>0.0</td>\n",
       "      <td>6/30/2014</td>\n",
       "      <td>7/31/2014</td>\n",
       "      <td>8/31/2014</td>\n",
       "      <td>9/30/2014</td>\n",
       "      <td>197.385</td>\n",
       "      <td>...</td>\n",
       "      <td>0</td>\n",
       "      <td>1.0</td>\n",
       "      <td>1.0</td>\n",
       "      <td>1.0</td>\n",
       "      <td>NaN</td>\n",
       "      <td>968</td>\n",
       "      <td>30.4</td>\n",
       "      <td>0.0</td>\n",
       "      <td>101.20</td>\n",
       "      <td>3.58</td>\n",
       "    </tr>\n",
       "    <tr>\n",
       "      <th>1</th>\n",
       "      <td>7001865778</td>\n",
       "      <td>109</td>\n",
       "      <td>0.0</td>\n",
       "      <td>0.0</td>\n",
       "      <td>0.0</td>\n",
       "      <td>6/30/2014</td>\n",
       "      <td>7/31/2014</td>\n",
       "      <td>8/31/2014</td>\n",
       "      <td>9/30/2014</td>\n",
       "      <td>34.047</td>\n",
       "      <td>...</td>\n",
       "      <td>0</td>\n",
       "      <td>NaN</td>\n",
       "      <td>1.0</td>\n",
       "      <td>1.0</td>\n",
       "      <td>NaN</td>\n",
       "      <td>1006</td>\n",
       "      <td>0.0</td>\n",
       "      <td>0.0</td>\n",
       "      <td>0.00</td>\n",
       "      <td>0.00</td>\n",
       "    </tr>\n",
       "    <tr>\n",
       "      <th>2</th>\n",
       "      <td>7001625959</td>\n",
       "      <td>109</td>\n",
       "      <td>0.0</td>\n",
       "      <td>0.0</td>\n",
       "      <td>0.0</td>\n",
       "      <td>6/30/2014</td>\n",
       "      <td>7/31/2014</td>\n",
       "      <td>8/31/2014</td>\n",
       "      <td>9/30/2014</td>\n",
       "      <td>167.690</td>\n",
       "      <td>...</td>\n",
       "      <td>0</td>\n",
       "      <td>NaN</td>\n",
       "      <td>NaN</td>\n",
       "      <td>NaN</td>\n",
       "      <td>1.0</td>\n",
       "      <td>1103</td>\n",
       "      <td>0.0</td>\n",
       "      <td>0.0</td>\n",
       "      <td>4.17</td>\n",
       "      <td>0.00</td>\n",
       "    </tr>\n",
       "    <tr>\n",
       "      <th>3</th>\n",
       "      <td>7001204172</td>\n",
       "      <td>109</td>\n",
       "      <td>0.0</td>\n",
       "      <td>0.0</td>\n",
       "      <td>0.0</td>\n",
       "      <td>6/30/2014</td>\n",
       "      <td>7/31/2014</td>\n",
       "      <td>8/31/2014</td>\n",
       "      <td>9/30/2014</td>\n",
       "      <td>221.338</td>\n",
       "      <td>...</td>\n",
       "      <td>0</td>\n",
       "      <td>NaN</td>\n",
       "      <td>NaN</td>\n",
       "      <td>NaN</td>\n",
       "      <td>NaN</td>\n",
       "      <td>2491</td>\n",
       "      <td>0.0</td>\n",
       "      <td>0.0</td>\n",
       "      <td>0.00</td>\n",
       "      <td>0.00</td>\n",
       "    </tr>\n",
       "    <tr>\n",
       "      <th>4</th>\n",
       "      <td>7000142493</td>\n",
       "      <td>109</td>\n",
       "      <td>0.0</td>\n",
       "      <td>0.0</td>\n",
       "      <td>0.0</td>\n",
       "      <td>6/30/2014</td>\n",
       "      <td>7/31/2014</td>\n",
       "      <td>8/31/2014</td>\n",
       "      <td>9/30/2014</td>\n",
       "      <td>261.636</td>\n",
       "      <td>...</td>\n",
       "      <td>0</td>\n",
       "      <td>0.0</td>\n",
       "      <td>NaN</td>\n",
       "      <td>NaN</td>\n",
       "      <td>NaN</td>\n",
       "      <td>1526</td>\n",
       "      <td>0.0</td>\n",
       "      <td>0.0</td>\n",
       "      <td>0.00</td>\n",
       "      <td>0.00</td>\n",
       "    </tr>\n",
       "  </tbody>\n",
       "</table>\n",
       "<p>5 rows × 226 columns</p>\n",
       "</div>"
      ],
      "text/plain": [
       "   mobile_number  circle_id  loc_og_t2o_mou  std_og_t2o_mou  loc_ic_t2o_mou  \\\n",
       "0     7000842753        109             0.0             0.0             0.0   \n",
       "1     7001865778        109             0.0             0.0             0.0   \n",
       "2     7001625959        109             0.0             0.0             0.0   \n",
       "3     7001204172        109             0.0             0.0             0.0   \n",
       "4     7000142493        109             0.0             0.0             0.0   \n",
       "\n",
       "  last_date_of_month_6 last_date_of_month_7 last_date_of_month_8  \\\n",
       "0            6/30/2014            7/31/2014            8/31/2014   \n",
       "1            6/30/2014            7/31/2014            8/31/2014   \n",
       "2            6/30/2014            7/31/2014            8/31/2014   \n",
       "3            6/30/2014            7/31/2014            8/31/2014   \n",
       "4            6/30/2014            7/31/2014            8/31/2014   \n",
       "\n",
       "  last_date_of_month_9   arpu_6     ...      sachet_3g_9  fb_user_6  \\\n",
       "0            9/30/2014  197.385     ...                0        1.0   \n",
       "1            9/30/2014   34.047     ...                0        NaN   \n",
       "2            9/30/2014  167.690     ...                0        NaN   \n",
       "3            9/30/2014  221.338     ...                0        NaN   \n",
       "4            9/30/2014  261.636     ...                0        0.0   \n",
       "\n",
       "   fb_user_7  fb_user_8  fb_user_9   aon  aug_vbc_3g  jul_vbc_3g  jun_vbc_3g  \\\n",
       "0        1.0        1.0        NaN   968        30.4         0.0      101.20   \n",
       "1        1.0        1.0        NaN  1006         0.0         0.0        0.00   \n",
       "2        NaN        NaN        1.0  1103         0.0         0.0        4.17   \n",
       "3        NaN        NaN        NaN  2491         0.0         0.0        0.00   \n",
       "4        NaN        NaN        NaN  1526         0.0         0.0        0.00   \n",
       "\n",
       "   sep_vbc_3g  \n",
       "0        3.58  \n",
       "1        0.00  \n",
       "2        0.00  \n",
       "3        0.00  \n",
       "4        0.00  \n",
       "\n",
       "[5 rows x 226 columns]"
      ]
     },
     "execution_count": 2,
     "metadata": {},
     "output_type": "execute_result"
    }
   ],
   "source": [
    "# Importing all datasets\n",
    "import os\n",
    "print(os.getcwd())\n",
    "churn_data = pd.read_csv(\"/Users/manoj/work/iiit-upgrad/Machine-Learning-Case-Study/Telcome_Churn/data/telecom_churn_data.csv\")\n",
    "churn_data.head()"
   ]
  },
  {
   "cell_type": "code",
   "execution_count": 3,
   "metadata": {},
   "outputs": [
    {
     "data": {
      "text/html": [
       "<div>\n",
       "<style scoped>\n",
       "    .dataframe tbody tr th:only-of-type {\n",
       "        vertical-align: middle;\n",
       "    }\n",
       "\n",
       "    .dataframe tbody tr th {\n",
       "        vertical-align: top;\n",
       "    }\n",
       "\n",
       "    .dataframe thead th {\n",
       "        text-align: right;\n",
       "    }\n",
       "</style>\n",
       "<table border=\"1\" class=\"dataframe\">\n",
       "  <thead>\n",
       "    <tr style=\"text-align: right;\">\n",
       "      <th></th>\n",
       "      <th>mobile_number</th>\n",
       "      <th>circle_id</th>\n",
       "      <th>loc_og_t2o_mou</th>\n",
       "      <th>std_og_t2o_mou</th>\n",
       "      <th>loc_ic_t2o_mou</th>\n",
       "      <th>arpu_6</th>\n",
       "      <th>arpu_7</th>\n",
       "      <th>arpu_8</th>\n",
       "      <th>arpu_9</th>\n",
       "      <th>onnet_mou_6</th>\n",
       "      <th>...</th>\n",
       "      <th>sachet_3g_9</th>\n",
       "      <th>fb_user_6</th>\n",
       "      <th>fb_user_7</th>\n",
       "      <th>fb_user_8</th>\n",
       "      <th>fb_user_9</th>\n",
       "      <th>aon</th>\n",
       "      <th>aug_vbc_3g</th>\n",
       "      <th>jul_vbc_3g</th>\n",
       "      <th>jun_vbc_3g</th>\n",
       "      <th>sep_vbc_3g</th>\n",
       "    </tr>\n",
       "  </thead>\n",
       "  <tbody>\n",
       "    <tr>\n",
       "      <th>count</th>\n",
       "      <td>9.999900e+04</td>\n",
       "      <td>99999.0</td>\n",
       "      <td>98981.0</td>\n",
       "      <td>98981.0</td>\n",
       "      <td>98981.0</td>\n",
       "      <td>99999.000000</td>\n",
       "      <td>99999.000000</td>\n",
       "      <td>99999.000000</td>\n",
       "      <td>99999.000000</td>\n",
       "      <td>96062.000000</td>\n",
       "      <td>...</td>\n",
       "      <td>99999.000000</td>\n",
       "      <td>25153.000000</td>\n",
       "      <td>25571.000000</td>\n",
       "      <td>26339.000000</td>\n",
       "      <td>25922.000000</td>\n",
       "      <td>99999.000000</td>\n",
       "      <td>99999.000000</td>\n",
       "      <td>99999.000000</td>\n",
       "      <td>99999.000000</td>\n",
       "      <td>99999.000000</td>\n",
       "    </tr>\n",
       "    <tr>\n",
       "      <th>mean</th>\n",
       "      <td>7.001207e+09</td>\n",
       "      <td>109.0</td>\n",
       "      <td>0.0</td>\n",
       "      <td>0.0</td>\n",
       "      <td>0.0</td>\n",
       "      <td>282.987358</td>\n",
       "      <td>278.536648</td>\n",
       "      <td>279.154731</td>\n",
       "      <td>261.645069</td>\n",
       "      <td>132.395875</td>\n",
       "      <td>...</td>\n",
       "      <td>0.084581</td>\n",
       "      <td>0.914404</td>\n",
       "      <td>0.908764</td>\n",
       "      <td>0.890808</td>\n",
       "      <td>0.860968</td>\n",
       "      <td>1219.854749</td>\n",
       "      <td>68.170248</td>\n",
       "      <td>66.839062</td>\n",
       "      <td>60.021204</td>\n",
       "      <td>3.299373</td>\n",
       "    </tr>\n",
       "    <tr>\n",
       "      <th>std</th>\n",
       "      <td>6.956694e+05</td>\n",
       "      <td>0.0</td>\n",
       "      <td>0.0</td>\n",
       "      <td>0.0</td>\n",
       "      <td>0.0</td>\n",
       "      <td>328.439770</td>\n",
       "      <td>338.156291</td>\n",
       "      <td>344.474791</td>\n",
       "      <td>341.998630</td>\n",
       "      <td>297.207406</td>\n",
       "      <td>...</td>\n",
       "      <td>0.650457</td>\n",
       "      <td>0.279772</td>\n",
       "      <td>0.287950</td>\n",
       "      <td>0.311885</td>\n",
       "      <td>0.345987</td>\n",
       "      <td>954.733842</td>\n",
       "      <td>267.580450</td>\n",
       "      <td>271.201856</td>\n",
       "      <td>253.938223</td>\n",
       "      <td>32.408353</td>\n",
       "    </tr>\n",
       "    <tr>\n",
       "      <th>min</th>\n",
       "      <td>7.000000e+09</td>\n",
       "      <td>109.0</td>\n",
       "      <td>0.0</td>\n",
       "      <td>0.0</td>\n",
       "      <td>0.0</td>\n",
       "      <td>-2258.709000</td>\n",
       "      <td>-2014.045000</td>\n",
       "      <td>-945.808000</td>\n",
       "      <td>-1899.505000</td>\n",
       "      <td>0.000000</td>\n",
       "      <td>...</td>\n",
       "      <td>0.000000</td>\n",
       "      <td>0.000000</td>\n",
       "      <td>0.000000</td>\n",
       "      <td>0.000000</td>\n",
       "      <td>0.000000</td>\n",
       "      <td>180.000000</td>\n",
       "      <td>0.000000</td>\n",
       "      <td>0.000000</td>\n",
       "      <td>0.000000</td>\n",
       "      <td>0.000000</td>\n",
       "    </tr>\n",
       "    <tr>\n",
       "      <th>25%</th>\n",
       "      <td>7.000606e+09</td>\n",
       "      <td>109.0</td>\n",
       "      <td>0.0</td>\n",
       "      <td>0.0</td>\n",
       "      <td>0.0</td>\n",
       "      <td>93.411500</td>\n",
       "      <td>86.980500</td>\n",
       "      <td>84.126000</td>\n",
       "      <td>62.685000</td>\n",
       "      <td>7.380000</td>\n",
       "      <td>...</td>\n",
       "      <td>0.000000</td>\n",
       "      <td>1.000000</td>\n",
       "      <td>1.000000</td>\n",
       "      <td>1.000000</td>\n",
       "      <td>1.000000</td>\n",
       "      <td>467.000000</td>\n",
       "      <td>0.000000</td>\n",
       "      <td>0.000000</td>\n",
       "      <td>0.000000</td>\n",
       "      <td>0.000000</td>\n",
       "    </tr>\n",
       "    <tr>\n",
       "      <th>50%</th>\n",
       "      <td>7.001205e+09</td>\n",
       "      <td>109.0</td>\n",
       "      <td>0.0</td>\n",
       "      <td>0.0</td>\n",
       "      <td>0.0</td>\n",
       "      <td>197.704000</td>\n",
       "      <td>191.640000</td>\n",
       "      <td>192.080000</td>\n",
       "      <td>176.849000</td>\n",
       "      <td>34.310000</td>\n",
       "      <td>...</td>\n",
       "      <td>0.000000</td>\n",
       "      <td>1.000000</td>\n",
       "      <td>1.000000</td>\n",
       "      <td>1.000000</td>\n",
       "      <td>1.000000</td>\n",
       "      <td>863.000000</td>\n",
       "      <td>0.000000</td>\n",
       "      <td>0.000000</td>\n",
       "      <td>0.000000</td>\n",
       "      <td>0.000000</td>\n",
       "    </tr>\n",
       "    <tr>\n",
       "      <th>75%</th>\n",
       "      <td>7.001812e+09</td>\n",
       "      <td>109.0</td>\n",
       "      <td>0.0</td>\n",
       "      <td>0.0</td>\n",
       "      <td>0.0</td>\n",
       "      <td>371.060000</td>\n",
       "      <td>365.344500</td>\n",
       "      <td>369.370500</td>\n",
       "      <td>353.466500</td>\n",
       "      <td>118.740000</td>\n",
       "      <td>...</td>\n",
       "      <td>0.000000</td>\n",
       "      <td>1.000000</td>\n",
       "      <td>1.000000</td>\n",
       "      <td>1.000000</td>\n",
       "      <td>1.000000</td>\n",
       "      <td>1807.500000</td>\n",
       "      <td>0.000000</td>\n",
       "      <td>0.000000</td>\n",
       "      <td>0.000000</td>\n",
       "      <td>0.000000</td>\n",
       "    </tr>\n",
       "    <tr>\n",
       "      <th>max</th>\n",
       "      <td>7.002411e+09</td>\n",
       "      <td>109.0</td>\n",
       "      <td>0.0</td>\n",
       "      <td>0.0</td>\n",
       "      <td>0.0</td>\n",
       "      <td>27731.088000</td>\n",
       "      <td>35145.834000</td>\n",
       "      <td>33543.624000</td>\n",
       "      <td>38805.617000</td>\n",
       "      <td>7376.710000</td>\n",
       "      <td>...</td>\n",
       "      <td>49.000000</td>\n",
       "      <td>1.000000</td>\n",
       "      <td>1.000000</td>\n",
       "      <td>1.000000</td>\n",
       "      <td>1.000000</td>\n",
       "      <td>4337.000000</td>\n",
       "      <td>12916.220000</td>\n",
       "      <td>9165.600000</td>\n",
       "      <td>11166.210000</td>\n",
       "      <td>2618.570000</td>\n",
       "    </tr>\n",
       "  </tbody>\n",
       "</table>\n",
       "<p>8 rows × 214 columns</p>\n",
       "</div>"
      ],
      "text/plain": [
       "       mobile_number  circle_id  loc_og_t2o_mou  std_og_t2o_mou  \\\n",
       "count   9.999900e+04    99999.0         98981.0         98981.0   \n",
       "mean    7.001207e+09      109.0             0.0             0.0   \n",
       "std     6.956694e+05        0.0             0.0             0.0   \n",
       "min     7.000000e+09      109.0             0.0             0.0   \n",
       "25%     7.000606e+09      109.0             0.0             0.0   \n",
       "50%     7.001205e+09      109.0             0.0             0.0   \n",
       "75%     7.001812e+09      109.0             0.0             0.0   \n",
       "max     7.002411e+09      109.0             0.0             0.0   \n",
       "\n",
       "       loc_ic_t2o_mou        arpu_6        arpu_7        arpu_8        arpu_9  \\\n",
       "count         98981.0  99999.000000  99999.000000  99999.000000  99999.000000   \n",
       "mean              0.0    282.987358    278.536648    279.154731    261.645069   \n",
       "std               0.0    328.439770    338.156291    344.474791    341.998630   \n",
       "min               0.0  -2258.709000  -2014.045000   -945.808000  -1899.505000   \n",
       "25%               0.0     93.411500     86.980500     84.126000     62.685000   \n",
       "50%               0.0    197.704000    191.640000    192.080000    176.849000   \n",
       "75%               0.0    371.060000    365.344500    369.370500    353.466500   \n",
       "max               0.0  27731.088000  35145.834000  33543.624000  38805.617000   \n",
       "\n",
       "        onnet_mou_6      ...        sachet_3g_9     fb_user_6     fb_user_7  \\\n",
       "count  96062.000000      ...       99999.000000  25153.000000  25571.000000   \n",
       "mean     132.395875      ...           0.084581      0.914404      0.908764   \n",
       "std      297.207406      ...           0.650457      0.279772      0.287950   \n",
       "min        0.000000      ...           0.000000      0.000000      0.000000   \n",
       "25%        7.380000      ...           0.000000      1.000000      1.000000   \n",
       "50%       34.310000      ...           0.000000      1.000000      1.000000   \n",
       "75%      118.740000      ...           0.000000      1.000000      1.000000   \n",
       "max     7376.710000      ...          49.000000      1.000000      1.000000   \n",
       "\n",
       "          fb_user_8     fb_user_9           aon    aug_vbc_3g    jul_vbc_3g  \\\n",
       "count  26339.000000  25922.000000  99999.000000  99999.000000  99999.000000   \n",
       "mean       0.890808      0.860968   1219.854749     68.170248     66.839062   \n",
       "std        0.311885      0.345987    954.733842    267.580450    271.201856   \n",
       "min        0.000000      0.000000    180.000000      0.000000      0.000000   \n",
       "25%        1.000000      1.000000    467.000000      0.000000      0.000000   \n",
       "50%        1.000000      1.000000    863.000000      0.000000      0.000000   \n",
       "75%        1.000000      1.000000   1807.500000      0.000000      0.000000   \n",
       "max        1.000000      1.000000   4337.000000  12916.220000   9165.600000   \n",
       "\n",
       "         jun_vbc_3g    sep_vbc_3g  \n",
       "count  99999.000000  99999.000000  \n",
       "mean      60.021204      3.299373  \n",
       "std      253.938223     32.408353  \n",
       "min        0.000000      0.000000  \n",
       "25%        0.000000      0.000000  \n",
       "50%        0.000000      0.000000  \n",
       "75%        0.000000      0.000000  \n",
       "max    11166.210000   2618.570000  \n",
       "\n",
       "[8 rows x 214 columns]"
      ]
     },
     "execution_count": 3,
     "metadata": {},
     "output_type": "execute_result"
    }
   ],
   "source": [
    "churn_data.describe()"
   ]
  },
  {
   "cell_type": "code",
   "execution_count": 4,
   "metadata": {},
   "outputs": [
    {
     "name": "stdout",
     "output_type": "stream",
     "text": [
      "<class 'pandas.core.frame.DataFrame'>\n",
      "RangeIndex: 99999 entries, 0 to 99998\n",
      "Columns: 226 entries, mobile_number to sep_vbc_3g\n",
      "dtypes: float64(179), int64(35), object(12)\n",
      "memory usage: 172.4+ MB\n"
     ]
    }
   ],
   "source": [
    "churn_data.info()"
   ]
  },
  {
   "cell_type": "markdown",
   "metadata": {},
   "source": [
    "#### Too many rows to Analyze.\n",
    "##### Check Missing data and remove who have too many missing values in column"
   ]
  },
  {
   "cell_type": "code",
   "execution_count": 5,
   "metadata": {},
   "outputs": [
    {
     "data": {
      "text/plain": [
       "date_of_last_rech_data_6    74846\n",
       "date_of_last_rech_data_7    74428\n",
       "date_of_last_rech_data_8    73660\n",
       "date_of_last_rech_data_9    74077\n",
       "total_rech_data_6           74846\n",
       "total_rech_data_7           74428\n",
       "total_rech_data_8           73660\n",
       "total_rech_data_9           74077\n",
       "max_rech_data_6             74846\n",
       "max_rech_data_7             74428\n",
       "max_rech_data_8             73660\n",
       "max_rech_data_9             74077\n",
       "count_rech_2g_6             74846\n",
       "count_rech_2g_7             74428\n",
       "count_rech_2g_8             73660\n",
       "count_rech_2g_9             74077\n",
       "count_rech_3g_6             74846\n",
       "count_rech_3g_7             74428\n",
       "count_rech_3g_8             73660\n",
       "count_rech_3g_9             74077\n",
       "av_rech_amt_data_6          74846\n",
       "av_rech_amt_data_7          74428\n",
       "av_rech_amt_data_8          73660\n",
       "av_rech_amt_data_9          74077\n",
       "arpu_3g_6                   74846\n",
       "arpu_3g_7                   74428\n",
       "arpu_3g_8                   73660\n",
       "arpu_3g_9                   74077\n",
       "arpu_2g_6                   74846\n",
       "arpu_2g_7                   74428\n",
       "arpu_2g_8                   73660\n",
       "arpu_2g_9                   74077\n",
       "night_pck_user_6            74846\n",
       "night_pck_user_7            74428\n",
       "night_pck_user_8            73660\n",
       "night_pck_user_9            74077\n",
       "fb_user_6                   74846\n",
       "fb_user_7                   74428\n",
       "fb_user_8                   73660\n",
       "fb_user_9                   74077\n",
       "dtype: int64"
      ]
     },
     "execution_count": 5,
     "metadata": {},
     "output_type": "execute_result"
    }
   ],
   "source": [
    "missing_column = churn_data.columns[(100*churn_data.isnull().sum()/len(churn_data.index)) > 50]\n",
    "missing_column_data=churn_data[missing_column]\n",
    "missing_column_data.isnull().sum()"
   ]
  },
  {
   "cell_type": "markdown",
   "metadata": {},
   "source": [
    "#### As too many column data are missing more than 50%, lets check if column value if missing more than 5%"
   ]
  },
  {
   "cell_type": "code",
   "execution_count": 6,
   "metadata": {},
   "outputs": [
    {
     "name": "stdout",
     "output_type": "stream",
     "text": [
      "Index(['total_rech_num_6', 'total_rech_num_7', 'total_rech_num_8',\n",
      "       'total_rech_num_9', 'total_rech_amt_6', 'total_rech_amt_7',\n",
      "       'total_rech_amt_8', 'total_rech_amt_9', 'max_rech_amt_6',\n",
      "       'max_rech_amt_7', 'max_rech_amt_8', 'max_rech_amt_9',\n",
      "       'date_of_last_rech_6', 'date_of_last_rech_7', 'date_of_last_rech_8',\n",
      "       'date_of_last_rech_9', 'date_of_last_rech_data_6',\n",
      "       'date_of_last_rech_data_7', 'date_of_last_rech_data_8',\n",
      "       'date_of_last_rech_data_9', 'total_rech_data_6', 'total_rech_data_7',\n",
      "       'total_rech_data_8', 'total_rech_data_9', 'max_rech_data_6',\n",
      "       'max_rech_data_7', 'max_rech_data_8', 'max_rech_data_9',\n",
      "       'count_rech_2g_6', 'count_rech_2g_7', 'count_rech_2g_8',\n",
      "       'count_rech_2g_9', 'count_rech_3g_6', 'count_rech_3g_7',\n",
      "       'count_rech_3g_8', 'count_rech_3g_9', 'av_rech_amt_data_6',\n",
      "       'av_rech_amt_data_7', 'av_rech_amt_data_8', 'av_rech_amt_data_9'],\n",
      "      dtype='object')\n",
      "Missing Columns Name of more than 50% value missing=====\n",
      "Index(['date_of_last_rech_data_6', 'date_of_last_rech_data_7',\n",
      "       'date_of_last_rech_data_8', 'date_of_last_rech_data_9',\n",
      "       'total_rech_data_6', 'total_rech_data_7', 'total_rech_data_8',\n",
      "       'total_rech_data_9', 'max_rech_data_6', 'max_rech_data_7',\n",
      "       'max_rech_data_8', 'max_rech_data_9', 'count_rech_2g_6',\n",
      "       'count_rech_2g_7', 'count_rech_2g_8', 'count_rech_2g_9',\n",
      "       'count_rech_3g_6', 'count_rech_3g_7', 'count_rech_3g_8',\n",
      "       'count_rech_3g_9', 'av_rech_amt_data_6', 'av_rech_amt_data_7',\n",
      "       'av_rech_amt_data_8', 'av_rech_amt_data_9', 'arpu_3g_6', 'arpu_3g_7',\n",
      "       'arpu_3g_8', 'arpu_3g_9', 'arpu_2g_6', 'arpu_2g_7', 'arpu_2g_8',\n",
      "       'arpu_2g_9', 'night_pck_user_6', 'night_pck_user_7', 'night_pck_user_8',\n",
      "       'night_pck_user_9', 'fb_user_6', 'fb_user_7', 'fb_user_8', 'fb_user_9'],\n",
      "      dtype='object')\n"
     ]
    }
   ],
   "source": [
    "#missing_column = churn_data.columns[(100*churn_data.isnull().sum()/len(churn_data.index)) > 5]\n",
    "#missing_column\n",
    "#print((100*churn_data.isnull().sum()/len(churn_data.index)))\n",
    "print(churn_data.filter(regex='rech').columns)\n",
    "print(\"Missing Columns Name of more than 50% value missing=====\")\n",
    "print(churn_data.columns[(100*churn_data.isnull().sum()/len(churn_data.index)) > 50])\n",
    "missing_columns = churn_data.columns[(100*churn_data.isnull().sum()/len(churn_data.index)) > 50]"
   ]
  },
  {
   "cell_type": "markdown",
   "metadata": {},
   "source": [
    "#### Lots of column having more than 50% data is mssing."
   ]
  },
  {
   "cell_type": "code",
   "execution_count": 23,
   "metadata": {},
   "outputs": [
    {
     "data": {
      "text/plain": [
       "(99999, 186)"
      ]
     },
     "execution_count": 23,
     "metadata": {},
     "output_type": "execute_result"
    }
   ],
   "source": [
    "### Removing column if all rows value is missings\n",
    "cleaned_churn_df = churn_data.drop(labels=missing_columns,axis=1)\n",
    "cleaned_churn_df.shape"
   ]
  },
  {
   "cell_type": "markdown",
   "metadata": {},
   "source": [
    "#### Impute with mean rows which having any missing values,"
   ]
  },
  {
   "cell_type": "code",
   "execution_count": 24,
   "metadata": {},
   "outputs": [
    {
     "data": {
      "text/plain": [
       "(99999, 186)"
      ]
     },
     "execution_count": 24,
     "metadata": {},
     "output_type": "execute_result"
    }
   ],
   "source": [
    "cleaned_churn_df = cleaned_churn_df.fillna(cleaned_churn_df.mean())\n",
    "cleaned_churn_df.shape"
   ]
  },
  {
   "cell_type": "code",
   "execution_count": 25,
   "metadata": {},
   "outputs": [
    {
     "data": {
      "text/plain": [
       "Index(['last_date_of_month_6', 'last_date_of_month_7', 'last_date_of_month_8',\n",
       "       'last_date_of_month_9', 'date_of_last_rech_6', 'date_of_last_rech_7',\n",
       "       'date_of_last_rech_8', 'date_of_last_rech_9'],\n",
       "      dtype='object')"
      ]
     },
     "execution_count": 25,
     "metadata": {},
     "output_type": "execute_result"
    }
   ],
   "source": [
    "cleaned_churn_df.select_dtypes(exclude=['int', 'float']).columns"
   ]
  },
  {
   "cell_type": "code",
   "execution_count": 26,
   "metadata": {},
   "outputs": [
    {
     "data": {
      "text/html": [
       "<div>\n",
       "<style scoped>\n",
       "    .dataframe tbody tr th:only-of-type {\n",
       "        vertical-align: middle;\n",
       "    }\n",
       "\n",
       "    .dataframe tbody tr th {\n",
       "        vertical-align: top;\n",
       "    }\n",
       "\n",
       "    .dataframe thead th {\n",
       "        text-align: right;\n",
       "    }\n",
       "</style>\n",
       "<table border=\"1\" class=\"dataframe\">\n",
       "  <thead>\n",
       "    <tr style=\"text-align: right;\">\n",
       "      <th></th>\n",
       "      <th>last_date_of_month_6</th>\n",
       "      <th>last_date_of_month_7</th>\n",
       "      <th>last_date_of_month_8</th>\n",
       "      <th>last_date_of_month_9</th>\n",
       "      <th>date_of_last_rech_6</th>\n",
       "      <th>date_of_last_rech_7</th>\n",
       "      <th>date_of_last_rech_8</th>\n",
       "      <th>date_of_last_rech_9</th>\n",
       "    </tr>\n",
       "  </thead>\n",
       "  <tbody>\n",
       "    <tr>\n",
       "      <th>0</th>\n",
       "      <td>6/30/2014</td>\n",
       "      <td>7/31/2014</td>\n",
       "      <td>8/31/2014</td>\n",
       "      <td>9/30/2014</td>\n",
       "      <td>6/21/2014</td>\n",
       "      <td>7/16/2014</td>\n",
       "      <td>8/8/2014</td>\n",
       "      <td>9/28/2014</td>\n",
       "    </tr>\n",
       "    <tr>\n",
       "      <th>1</th>\n",
       "      <td>6/30/2014</td>\n",
       "      <td>7/31/2014</td>\n",
       "      <td>8/31/2014</td>\n",
       "      <td>9/30/2014</td>\n",
       "      <td>6/29/2014</td>\n",
       "      <td>7/31/2014</td>\n",
       "      <td>8/28/2014</td>\n",
       "      <td>9/30/2014</td>\n",
       "    </tr>\n",
       "    <tr>\n",
       "      <th>2</th>\n",
       "      <td>6/30/2014</td>\n",
       "      <td>7/31/2014</td>\n",
       "      <td>8/31/2014</td>\n",
       "      <td>9/30/2014</td>\n",
       "      <td>6/17/2014</td>\n",
       "      <td>7/24/2014</td>\n",
       "      <td>8/14/2014</td>\n",
       "      <td>9/29/2014</td>\n",
       "    </tr>\n",
       "    <tr>\n",
       "      <th>3</th>\n",
       "      <td>6/30/2014</td>\n",
       "      <td>7/31/2014</td>\n",
       "      <td>8/31/2014</td>\n",
       "      <td>9/30/2014</td>\n",
       "      <td>6/28/2014</td>\n",
       "      <td>7/31/2014</td>\n",
       "      <td>8/31/2014</td>\n",
       "      <td>9/30/2014</td>\n",
       "    </tr>\n",
       "    <tr>\n",
       "      <th>4</th>\n",
       "      <td>6/30/2014</td>\n",
       "      <td>7/31/2014</td>\n",
       "      <td>8/31/2014</td>\n",
       "      <td>9/30/2014</td>\n",
       "      <td>6/26/2014</td>\n",
       "      <td>7/28/2014</td>\n",
       "      <td>8/9/2014</td>\n",
       "      <td>9/28/2014</td>\n",
       "    </tr>\n",
       "  </tbody>\n",
       "</table>\n",
       "</div>"
      ],
      "text/plain": [
       "  last_date_of_month_6 last_date_of_month_7 last_date_of_month_8  \\\n",
       "0            6/30/2014            7/31/2014            8/31/2014   \n",
       "1            6/30/2014            7/31/2014            8/31/2014   \n",
       "2            6/30/2014            7/31/2014            8/31/2014   \n",
       "3            6/30/2014            7/31/2014            8/31/2014   \n",
       "4            6/30/2014            7/31/2014            8/31/2014   \n",
       "\n",
       "  last_date_of_month_9 date_of_last_rech_6 date_of_last_rech_7  \\\n",
       "0            9/30/2014           6/21/2014           7/16/2014   \n",
       "1            9/30/2014           6/29/2014           7/31/2014   \n",
       "2            9/30/2014           6/17/2014           7/24/2014   \n",
       "3            9/30/2014           6/28/2014           7/31/2014   \n",
       "4            9/30/2014           6/26/2014           7/28/2014   \n",
       "\n",
       "  date_of_last_rech_8 date_of_last_rech_9  \n",
       "0            8/8/2014           9/28/2014  \n",
       "1           8/28/2014           9/30/2014  \n",
       "2           8/14/2014           9/29/2014  \n",
       "3           8/31/2014           9/30/2014  \n",
       "4            8/9/2014           9/28/2014  "
      ]
     },
     "execution_count": 26,
     "metadata": {},
     "output_type": "execute_result"
    }
   ],
   "source": [
    "date_attributes = ['last_date_of_month_6', 'last_date_of_month_7',\n",
    "       'last_date_of_month_8', 'last_date_of_month_9',\n",
    "       'date_of_last_rech_6', 'date_of_last_rech_7', 'date_of_last_rech_8',\n",
    "       'date_of_last_rech_9']\n",
    "cleaned_churn_df[date_attributes].head()"
   ]
  },
  {
   "cell_type": "code",
   "execution_count": 27,
   "metadata": {},
   "outputs": [],
   "source": [
    "cleaned_churn_df[date_attributes] = cleaned_churn_df[date_attributes].applymap(lambda x : pd.to_datetime(x, infer_datetime_format=True))"
   ]
  },
  {
   "cell_type": "code",
   "execution_count": 28,
   "metadata": {},
   "outputs": [
    {
     "data": {
      "text/html": [
       "<div>\n",
       "<style scoped>\n",
       "    .dataframe tbody tr th:only-of-type {\n",
       "        vertical-align: middle;\n",
       "    }\n",
       "\n",
       "    .dataframe tbody tr th {\n",
       "        vertical-align: top;\n",
       "    }\n",
       "\n",
       "    .dataframe thead th {\n",
       "        text-align: right;\n",
       "    }\n",
       "</style>\n",
       "<table border=\"1\" class=\"dataframe\">\n",
       "  <thead>\n",
       "    <tr style=\"text-align: right;\">\n",
       "      <th></th>\n",
       "      <th>last_date_of_month_6</th>\n",
       "      <th>last_date_of_month_7</th>\n",
       "      <th>last_date_of_month_8</th>\n",
       "      <th>last_date_of_month_9</th>\n",
       "      <th>date_of_last_rech_6</th>\n",
       "      <th>date_of_last_rech_7</th>\n",
       "      <th>date_of_last_rech_8</th>\n",
       "      <th>date_of_last_rech_9</th>\n",
       "    </tr>\n",
       "  </thead>\n",
       "  <tbody>\n",
       "    <tr>\n",
       "      <th>0</th>\n",
       "      <td>2014-06-30</td>\n",
       "      <td>2014-07-31</td>\n",
       "      <td>2014-08-31</td>\n",
       "      <td>2014-09-30</td>\n",
       "      <td>2014-06-21</td>\n",
       "      <td>2014-07-16</td>\n",
       "      <td>2014-08-08</td>\n",
       "      <td>2014-09-28</td>\n",
       "    </tr>\n",
       "    <tr>\n",
       "      <th>1</th>\n",
       "      <td>2014-06-30</td>\n",
       "      <td>2014-07-31</td>\n",
       "      <td>2014-08-31</td>\n",
       "      <td>2014-09-30</td>\n",
       "      <td>2014-06-29</td>\n",
       "      <td>2014-07-31</td>\n",
       "      <td>2014-08-28</td>\n",
       "      <td>2014-09-30</td>\n",
       "    </tr>\n",
       "    <tr>\n",
       "      <th>2</th>\n",
       "      <td>2014-06-30</td>\n",
       "      <td>2014-07-31</td>\n",
       "      <td>2014-08-31</td>\n",
       "      <td>2014-09-30</td>\n",
       "      <td>2014-06-17</td>\n",
       "      <td>2014-07-24</td>\n",
       "      <td>2014-08-14</td>\n",
       "      <td>2014-09-29</td>\n",
       "    </tr>\n",
       "    <tr>\n",
       "      <th>3</th>\n",
       "      <td>2014-06-30</td>\n",
       "      <td>2014-07-31</td>\n",
       "      <td>2014-08-31</td>\n",
       "      <td>2014-09-30</td>\n",
       "      <td>2014-06-28</td>\n",
       "      <td>2014-07-31</td>\n",
       "      <td>2014-08-31</td>\n",
       "      <td>2014-09-30</td>\n",
       "    </tr>\n",
       "    <tr>\n",
       "      <th>4</th>\n",
       "      <td>2014-06-30</td>\n",
       "      <td>2014-07-31</td>\n",
       "      <td>2014-08-31</td>\n",
       "      <td>2014-09-30</td>\n",
       "      <td>2014-06-26</td>\n",
       "      <td>2014-07-28</td>\n",
       "      <td>2014-08-09</td>\n",
       "      <td>2014-09-28</td>\n",
       "    </tr>\n",
       "  </tbody>\n",
       "</table>\n",
       "</div>"
      ],
      "text/plain": [
       "  last_date_of_month_6 last_date_of_month_7 last_date_of_month_8  \\\n",
       "0           2014-06-30           2014-07-31           2014-08-31   \n",
       "1           2014-06-30           2014-07-31           2014-08-31   \n",
       "2           2014-06-30           2014-07-31           2014-08-31   \n",
       "3           2014-06-30           2014-07-31           2014-08-31   \n",
       "4           2014-06-30           2014-07-31           2014-08-31   \n",
       "\n",
       "  last_date_of_month_9 date_of_last_rech_6 date_of_last_rech_7  \\\n",
       "0           2014-09-30          2014-06-21          2014-07-16   \n",
       "1           2014-09-30          2014-06-29          2014-07-31   \n",
       "2           2014-09-30          2014-06-17          2014-07-24   \n",
       "3           2014-09-30          2014-06-28          2014-07-31   \n",
       "4           2014-09-30          2014-06-26          2014-07-28   \n",
       "\n",
       "  date_of_last_rech_8 date_of_last_rech_9  \n",
       "0          2014-08-08          2014-09-28  \n",
       "1          2014-08-28          2014-09-30  \n",
       "2          2014-08-14          2014-09-29  \n",
       "3          2014-08-31          2014-09-30  \n",
       "4          2014-08-09          2014-09-28  "
      ]
     },
     "execution_count": 28,
     "metadata": {},
     "output_type": "execute_result"
    }
   ],
   "source": [
    "cleaned_churn_df[date_attributes].head()"
   ]
  },
  {
   "cell_type": "code",
   "execution_count": 29,
   "metadata": {},
   "outputs": [
    {
     "data": {
      "text/html": [
       "<div>\n",
       "<style scoped>\n",
       "    .dataframe tbody tr th:only-of-type {\n",
       "        vertical-align: middle;\n",
       "    }\n",
       "\n",
       "    .dataframe tbody tr th {\n",
       "        vertical-align: top;\n",
       "    }\n",
       "\n",
       "    .dataframe thead th {\n",
       "        text-align: right;\n",
       "    }\n",
       "</style>\n",
       "<table border=\"1\" class=\"dataframe\">\n",
       "  <thead>\n",
       "    <tr style=\"text-align: right;\">\n",
       "      <th></th>\n",
       "      <th>mobile_number</th>\n",
       "      <th>circle_id</th>\n",
       "      <th>loc_og_t2o_mou</th>\n",
       "      <th>std_og_t2o_mou</th>\n",
       "      <th>loc_ic_t2o_mou</th>\n",
       "      <th>arpu_6</th>\n",
       "      <th>arpu_7</th>\n",
       "      <th>arpu_8</th>\n",
       "      <th>arpu_9</th>\n",
       "      <th>onnet_mou_6</th>\n",
       "      <th>...</th>\n",
       "      <th>monthly_3g_9</th>\n",
       "      <th>sachet_3g_6</th>\n",
       "      <th>sachet_3g_7</th>\n",
       "      <th>sachet_3g_8</th>\n",
       "      <th>sachet_3g_9</th>\n",
       "      <th>aon</th>\n",
       "      <th>aug_vbc_3g</th>\n",
       "      <th>jul_vbc_3g</th>\n",
       "      <th>jun_vbc_3g</th>\n",
       "      <th>sep_vbc_3g</th>\n",
       "    </tr>\n",
       "  </thead>\n",
       "  <tbody>\n",
       "    <tr>\n",
       "      <th>count</th>\n",
       "      <td>9.999900e+04</td>\n",
       "      <td>99999.0</td>\n",
       "      <td>99999.0</td>\n",
       "      <td>99999.0</td>\n",
       "      <td>99999.0</td>\n",
       "      <td>99999.000000</td>\n",
       "      <td>99999.000000</td>\n",
       "      <td>99999.000000</td>\n",
       "      <td>99999.000000</td>\n",
       "      <td>99999.000000</td>\n",
       "      <td>...</td>\n",
       "      <td>99999.000000</td>\n",
       "      <td>99999.000000</td>\n",
       "      <td>99999.000000</td>\n",
       "      <td>99999.000000</td>\n",
       "      <td>99999.000000</td>\n",
       "      <td>99999.000000</td>\n",
       "      <td>99999.000000</td>\n",
       "      <td>99999.000000</td>\n",
       "      <td>99999.000000</td>\n",
       "      <td>99999.000000</td>\n",
       "    </tr>\n",
       "    <tr>\n",
       "      <th>mean</th>\n",
       "      <td>7.001207e+09</td>\n",
       "      <td>109.0</td>\n",
       "      <td>0.0</td>\n",
       "      <td>0.0</td>\n",
       "      <td>0.0</td>\n",
       "      <td>282.987358</td>\n",
       "      <td>278.536648</td>\n",
       "      <td>279.154731</td>\n",
       "      <td>261.645069</td>\n",
       "      <td>132.395875</td>\n",
       "      <td>...</td>\n",
       "      <td>0.086341</td>\n",
       "      <td>0.074781</td>\n",
       "      <td>0.080401</td>\n",
       "      <td>0.084501</td>\n",
       "      <td>0.084581</td>\n",
       "      <td>1219.854749</td>\n",
       "      <td>68.170248</td>\n",
       "      <td>66.839062</td>\n",
       "      <td>60.021204</td>\n",
       "      <td>3.299373</td>\n",
       "    </tr>\n",
       "    <tr>\n",
       "      <th>std</th>\n",
       "      <td>6.956694e+05</td>\n",
       "      <td>0.0</td>\n",
       "      <td>0.0</td>\n",
       "      <td>0.0</td>\n",
       "      <td>0.0</td>\n",
       "      <td>328.439770</td>\n",
       "      <td>338.156291</td>\n",
       "      <td>344.474791</td>\n",
       "      <td>341.998630</td>\n",
       "      <td>291.298012</td>\n",
       "      <td>...</td>\n",
       "      <td>0.384978</td>\n",
       "      <td>0.568344</td>\n",
       "      <td>0.628334</td>\n",
       "      <td>0.660234</td>\n",
       "      <td>0.650457</td>\n",
       "      <td>954.733842</td>\n",
       "      <td>267.580450</td>\n",
       "      <td>271.201856</td>\n",
       "      <td>253.938223</td>\n",
       "      <td>32.408353</td>\n",
       "    </tr>\n",
       "    <tr>\n",
       "      <th>min</th>\n",
       "      <td>7.000000e+09</td>\n",
       "      <td>109.0</td>\n",
       "      <td>0.0</td>\n",
       "      <td>0.0</td>\n",
       "      <td>0.0</td>\n",
       "      <td>-2258.709000</td>\n",
       "      <td>-2014.045000</td>\n",
       "      <td>-945.808000</td>\n",
       "      <td>-1899.505000</td>\n",
       "      <td>0.000000</td>\n",
       "      <td>...</td>\n",
       "      <td>0.000000</td>\n",
       "      <td>0.000000</td>\n",
       "      <td>0.000000</td>\n",
       "      <td>0.000000</td>\n",
       "      <td>0.000000</td>\n",
       "      <td>180.000000</td>\n",
       "      <td>0.000000</td>\n",
       "      <td>0.000000</td>\n",
       "      <td>0.000000</td>\n",
       "      <td>0.000000</td>\n",
       "    </tr>\n",
       "    <tr>\n",
       "      <th>25%</th>\n",
       "      <td>7.000606e+09</td>\n",
       "      <td>109.0</td>\n",
       "      <td>0.0</td>\n",
       "      <td>0.0</td>\n",
       "      <td>0.0</td>\n",
       "      <td>93.411500</td>\n",
       "      <td>86.980500</td>\n",
       "      <td>84.126000</td>\n",
       "      <td>62.685000</td>\n",
       "      <td>8.030000</td>\n",
       "      <td>...</td>\n",
       "      <td>0.000000</td>\n",
       "      <td>0.000000</td>\n",
       "      <td>0.000000</td>\n",
       "      <td>0.000000</td>\n",
       "      <td>0.000000</td>\n",
       "      <td>467.000000</td>\n",
       "      <td>0.000000</td>\n",
       "      <td>0.000000</td>\n",
       "      <td>0.000000</td>\n",
       "      <td>0.000000</td>\n",
       "    </tr>\n",
       "    <tr>\n",
       "      <th>50%</th>\n",
       "      <td>7.001205e+09</td>\n",
       "      <td>109.0</td>\n",
       "      <td>0.0</td>\n",
       "      <td>0.0</td>\n",
       "      <td>0.0</td>\n",
       "      <td>197.704000</td>\n",
       "      <td>191.640000</td>\n",
       "      <td>192.080000</td>\n",
       "      <td>176.849000</td>\n",
       "      <td>37.960000</td>\n",
       "      <td>...</td>\n",
       "      <td>0.000000</td>\n",
       "      <td>0.000000</td>\n",
       "      <td>0.000000</td>\n",
       "      <td>0.000000</td>\n",
       "      <td>0.000000</td>\n",
       "      <td>863.000000</td>\n",
       "      <td>0.000000</td>\n",
       "      <td>0.000000</td>\n",
       "      <td>0.000000</td>\n",
       "      <td>0.000000</td>\n",
       "    </tr>\n",
       "    <tr>\n",
       "      <th>75%</th>\n",
       "      <td>7.001812e+09</td>\n",
       "      <td>109.0</td>\n",
       "      <td>0.0</td>\n",
       "      <td>0.0</td>\n",
       "      <td>0.0</td>\n",
       "      <td>371.060000</td>\n",
       "      <td>365.344500</td>\n",
       "      <td>369.370500</td>\n",
       "      <td>353.466500</td>\n",
       "      <td>132.395875</td>\n",
       "      <td>...</td>\n",
       "      <td>0.000000</td>\n",
       "      <td>0.000000</td>\n",
       "      <td>0.000000</td>\n",
       "      <td>0.000000</td>\n",
       "      <td>0.000000</td>\n",
       "      <td>1807.500000</td>\n",
       "      <td>0.000000</td>\n",
       "      <td>0.000000</td>\n",
       "      <td>0.000000</td>\n",
       "      <td>0.000000</td>\n",
       "    </tr>\n",
       "    <tr>\n",
       "      <th>max</th>\n",
       "      <td>7.002411e+09</td>\n",
       "      <td>109.0</td>\n",
       "      <td>0.0</td>\n",
       "      <td>0.0</td>\n",
       "      <td>0.0</td>\n",
       "      <td>27731.088000</td>\n",
       "      <td>35145.834000</td>\n",
       "      <td>33543.624000</td>\n",
       "      <td>38805.617000</td>\n",
       "      <td>7376.710000</td>\n",
       "      <td>...</td>\n",
       "      <td>11.000000</td>\n",
       "      <td>29.000000</td>\n",
       "      <td>35.000000</td>\n",
       "      <td>41.000000</td>\n",
       "      <td>49.000000</td>\n",
       "      <td>4337.000000</td>\n",
       "      <td>12916.220000</td>\n",
       "      <td>9165.600000</td>\n",
       "      <td>11166.210000</td>\n",
       "      <td>2618.570000</td>\n",
       "    </tr>\n",
       "  </tbody>\n",
       "</table>\n",
       "<p>8 rows × 178 columns</p>\n",
       "</div>"
      ],
      "text/plain": [
       "       mobile_number  circle_id  loc_og_t2o_mou  std_og_t2o_mou  \\\n",
       "count   9.999900e+04    99999.0         99999.0         99999.0   \n",
       "mean    7.001207e+09      109.0             0.0             0.0   \n",
       "std     6.956694e+05        0.0             0.0             0.0   \n",
       "min     7.000000e+09      109.0             0.0             0.0   \n",
       "25%     7.000606e+09      109.0             0.0             0.0   \n",
       "50%     7.001205e+09      109.0             0.0             0.0   \n",
       "75%     7.001812e+09      109.0             0.0             0.0   \n",
       "max     7.002411e+09      109.0             0.0             0.0   \n",
       "\n",
       "       loc_ic_t2o_mou        arpu_6        arpu_7        arpu_8        arpu_9  \\\n",
       "count         99999.0  99999.000000  99999.000000  99999.000000  99999.000000   \n",
       "mean              0.0    282.987358    278.536648    279.154731    261.645069   \n",
       "std               0.0    328.439770    338.156291    344.474791    341.998630   \n",
       "min               0.0  -2258.709000  -2014.045000   -945.808000  -1899.505000   \n",
       "25%               0.0     93.411500     86.980500     84.126000     62.685000   \n",
       "50%               0.0    197.704000    191.640000    192.080000    176.849000   \n",
       "75%               0.0    371.060000    365.344500    369.370500    353.466500   \n",
       "max               0.0  27731.088000  35145.834000  33543.624000  38805.617000   \n",
       "\n",
       "        onnet_mou_6      ...       monthly_3g_9   sachet_3g_6   sachet_3g_7  \\\n",
       "count  99999.000000      ...       99999.000000  99999.000000  99999.000000   \n",
       "mean     132.395875      ...           0.086341      0.074781      0.080401   \n",
       "std      291.298012      ...           0.384978      0.568344      0.628334   \n",
       "min        0.000000      ...           0.000000      0.000000      0.000000   \n",
       "25%        8.030000      ...           0.000000      0.000000      0.000000   \n",
       "50%       37.960000      ...           0.000000      0.000000      0.000000   \n",
       "75%      132.395875      ...           0.000000      0.000000      0.000000   \n",
       "max     7376.710000      ...          11.000000     29.000000     35.000000   \n",
       "\n",
       "        sachet_3g_8   sachet_3g_9           aon    aug_vbc_3g    jul_vbc_3g  \\\n",
       "count  99999.000000  99999.000000  99999.000000  99999.000000  99999.000000   \n",
       "mean       0.084501      0.084581   1219.854749     68.170248     66.839062   \n",
       "std        0.660234      0.650457    954.733842    267.580450    271.201856   \n",
       "min        0.000000      0.000000    180.000000      0.000000      0.000000   \n",
       "25%        0.000000      0.000000    467.000000      0.000000      0.000000   \n",
       "50%        0.000000      0.000000    863.000000      0.000000      0.000000   \n",
       "75%        0.000000      0.000000   1807.500000      0.000000      0.000000   \n",
       "max       41.000000     49.000000   4337.000000  12916.220000   9165.600000   \n",
       "\n",
       "         jun_vbc_3g    sep_vbc_3g  \n",
       "count  99999.000000  99999.000000  \n",
       "mean      60.021204      3.299373  \n",
       "std      253.938223     32.408353  \n",
       "min        0.000000      0.000000  \n",
       "25%        0.000000      0.000000  \n",
       "50%        0.000000      0.000000  \n",
       "75%        0.000000      0.000000  \n",
       "max    11166.210000   2618.570000  \n",
       "\n",
       "[8 rows x 178 columns]"
      ]
     },
     "execution_count": 29,
     "metadata": {},
     "output_type": "execute_result"
    }
   ],
   "source": [
    "cleaned_churn_df.describe()"
   ]
  },
  {
   "cell_type": "code",
   "execution_count": 30,
   "metadata": {},
   "outputs": [
    {
     "data": {
      "text/plain": [
       "(91319, 186)"
      ]
     },
     "execution_count": 30,
     "metadata": {},
     "output_type": "execute_result"
    }
   ],
   "source": [
    "# Remove Missing rows row\n",
    "cleaned_churn_df = cleaned_churn_df.dropna(axis=0,how='any')\n",
    "cleaned_churn_df.shape"
   ]
  },
  {
   "cell_type": "code",
   "execution_count": 31,
   "metadata": {},
   "outputs": [
    {
     "data": {
      "text/plain": [
       "Index(['last_date_of_month_6', 'last_date_of_month_7', 'last_date_of_month_8',\n",
       "       'last_date_of_month_9', 'date_of_last_rech_6', 'date_of_last_rech_7',\n",
       "       'date_of_last_rech_8', 'date_of_last_rech_9'],\n",
       "      dtype='object')"
      ]
     },
     "execution_count": 31,
     "metadata": {},
     "output_type": "execute_result"
    }
   ],
   "source": [
    "cleaned_churn_df.select_dtypes(exclude=['int', 'float']).columns"
   ]
  },
  {
   "cell_type": "markdown",
   "metadata": {
    "collapsed": true
   },
   "source": [
    "## Data Preparation"
   ]
  },
  {
   "cell_type": "code",
   "execution_count": 32,
   "metadata": {},
   "outputs": [],
   "source": [
    "## Number of days between two recharcge:\n",
    "cleaned_churn_df['first_recharge_gap'] = cleaned_churn_df['date_of_last_rech_7'] - cleaned_churn_df['date_of_last_rech_6']\n",
    "cleaned_churn_df['second_recharge_gap'] = cleaned_churn_df['date_of_last_rech_8'] - cleaned_churn_df['date_of_last_rech_7']\n",
    "cleaned_churn_df['third_recharge_gap'] = cleaned_churn_df['date_of_last_rech_9'] - cleaned_churn_df['date_of_last_rech_8']"
   ]
  },
  {
   "cell_type": "markdown",
   "metadata": {
    "collapsed": true
   },
   "source": [
    "##### Remove date columns from data sets as of no use."
   ]
  },
  {
   "cell_type": "code",
   "execution_count": 33,
   "metadata": {},
   "outputs": [
    {
     "data": {
      "text/html": [
       "<div>\n",
       "<style scoped>\n",
       "    .dataframe tbody tr th:only-of-type {\n",
       "        vertical-align: middle;\n",
       "    }\n",
       "\n",
       "    .dataframe tbody tr th {\n",
       "        vertical-align: top;\n",
       "    }\n",
       "\n",
       "    .dataframe thead th {\n",
       "        text-align: right;\n",
       "    }\n",
       "</style>\n",
       "<table border=\"1\" class=\"dataframe\">\n",
       "  <thead>\n",
       "    <tr style=\"text-align: right;\">\n",
       "      <th></th>\n",
       "      <th>mobile_number</th>\n",
       "      <th>circle_id</th>\n",
       "      <th>loc_og_t2o_mou</th>\n",
       "      <th>std_og_t2o_mou</th>\n",
       "      <th>loc_ic_t2o_mou</th>\n",
       "      <th>arpu_6</th>\n",
       "      <th>arpu_7</th>\n",
       "      <th>arpu_8</th>\n",
       "      <th>arpu_9</th>\n",
       "      <th>onnet_mou_6</th>\n",
       "      <th>...</th>\n",
       "      <th>sachet_3g_8</th>\n",
       "      <th>sachet_3g_9</th>\n",
       "      <th>aon</th>\n",
       "      <th>aug_vbc_3g</th>\n",
       "      <th>jul_vbc_3g</th>\n",
       "      <th>jun_vbc_3g</th>\n",
       "      <th>sep_vbc_3g</th>\n",
       "      <th>first_recharge_gap</th>\n",
       "      <th>second_recharge_gap</th>\n",
       "      <th>third_recharge_gap</th>\n",
       "    </tr>\n",
       "  </thead>\n",
       "  <tbody>\n",
       "    <tr>\n",
       "      <th>0</th>\n",
       "      <td>7000842753</td>\n",
       "      <td>109</td>\n",
       "      <td>0.0</td>\n",
       "      <td>0.0</td>\n",
       "      <td>0.0</td>\n",
       "      <td>197.385</td>\n",
       "      <td>214.816</td>\n",
       "      <td>213.803</td>\n",
       "      <td>21.100</td>\n",
       "      <td>132.395875</td>\n",
       "      <td>...</td>\n",
       "      <td>0</td>\n",
       "      <td>0</td>\n",
       "      <td>968</td>\n",
       "      <td>30.4</td>\n",
       "      <td>0.0</td>\n",
       "      <td>101.20</td>\n",
       "      <td>3.58</td>\n",
       "      <td>25.0</td>\n",
       "      <td>23.0</td>\n",
       "      <td>51.0</td>\n",
       "    </tr>\n",
       "    <tr>\n",
       "      <th>1</th>\n",
       "      <td>7001865778</td>\n",
       "      <td>109</td>\n",
       "      <td>0.0</td>\n",
       "      <td>0.0</td>\n",
       "      <td>0.0</td>\n",
       "      <td>34.047</td>\n",
       "      <td>355.074</td>\n",
       "      <td>268.321</td>\n",
       "      <td>86.285</td>\n",
       "      <td>24.110000</td>\n",
       "      <td>...</td>\n",
       "      <td>0</td>\n",
       "      <td>0</td>\n",
       "      <td>1006</td>\n",
       "      <td>0.0</td>\n",
       "      <td>0.0</td>\n",
       "      <td>0.00</td>\n",
       "      <td>0.00</td>\n",
       "      <td>32.0</td>\n",
       "      <td>28.0</td>\n",
       "      <td>33.0</td>\n",
       "    </tr>\n",
       "    <tr>\n",
       "      <th>2</th>\n",
       "      <td>7001625959</td>\n",
       "      <td>109</td>\n",
       "      <td>0.0</td>\n",
       "      <td>0.0</td>\n",
       "      <td>0.0</td>\n",
       "      <td>167.690</td>\n",
       "      <td>189.058</td>\n",
       "      <td>210.226</td>\n",
       "      <td>290.714</td>\n",
       "      <td>11.540000</td>\n",
       "      <td>...</td>\n",
       "      <td>0</td>\n",
       "      <td>0</td>\n",
       "      <td>1103</td>\n",
       "      <td>0.0</td>\n",
       "      <td>0.0</td>\n",
       "      <td>4.17</td>\n",
       "      <td>0.00</td>\n",
       "      <td>37.0</td>\n",
       "      <td>21.0</td>\n",
       "      <td>46.0</td>\n",
       "    </tr>\n",
       "    <tr>\n",
       "      <th>3</th>\n",
       "      <td>7001204172</td>\n",
       "      <td>109</td>\n",
       "      <td>0.0</td>\n",
       "      <td>0.0</td>\n",
       "      <td>0.0</td>\n",
       "      <td>221.338</td>\n",
       "      <td>251.102</td>\n",
       "      <td>508.054</td>\n",
       "      <td>389.500</td>\n",
       "      <td>99.910000</td>\n",
       "      <td>...</td>\n",
       "      <td>0</td>\n",
       "      <td>0</td>\n",
       "      <td>2491</td>\n",
       "      <td>0.0</td>\n",
       "      <td>0.0</td>\n",
       "      <td>0.00</td>\n",
       "      <td>0.00</td>\n",
       "      <td>33.0</td>\n",
       "      <td>31.0</td>\n",
       "      <td>30.0</td>\n",
       "    </tr>\n",
       "    <tr>\n",
       "      <th>4</th>\n",
       "      <td>7000142493</td>\n",
       "      <td>109</td>\n",
       "      <td>0.0</td>\n",
       "      <td>0.0</td>\n",
       "      <td>0.0</td>\n",
       "      <td>261.636</td>\n",
       "      <td>309.876</td>\n",
       "      <td>238.174</td>\n",
       "      <td>163.426</td>\n",
       "      <td>50.310000</td>\n",
       "      <td>...</td>\n",
       "      <td>0</td>\n",
       "      <td>0</td>\n",
       "      <td>1526</td>\n",
       "      <td>0.0</td>\n",
       "      <td>0.0</td>\n",
       "      <td>0.00</td>\n",
       "      <td>0.00</td>\n",
       "      <td>32.0</td>\n",
       "      <td>12.0</td>\n",
       "      <td>50.0</td>\n",
       "    </tr>\n",
       "  </tbody>\n",
       "</table>\n",
       "<p>5 rows × 181 columns</p>\n",
       "</div>"
      ],
      "text/plain": [
       "   mobile_number  circle_id  loc_og_t2o_mou  std_og_t2o_mou  loc_ic_t2o_mou  \\\n",
       "0     7000842753        109             0.0             0.0             0.0   \n",
       "1     7001865778        109             0.0             0.0             0.0   \n",
       "2     7001625959        109             0.0             0.0             0.0   \n",
       "3     7001204172        109             0.0             0.0             0.0   \n",
       "4     7000142493        109             0.0             0.0             0.0   \n",
       "\n",
       "    arpu_6   arpu_7   arpu_8   arpu_9  onnet_mou_6         ...          \\\n",
       "0  197.385  214.816  213.803   21.100   132.395875         ...           \n",
       "1   34.047  355.074  268.321   86.285    24.110000         ...           \n",
       "2  167.690  189.058  210.226  290.714    11.540000         ...           \n",
       "3  221.338  251.102  508.054  389.500    99.910000         ...           \n",
       "4  261.636  309.876  238.174  163.426    50.310000         ...           \n",
       "\n",
       "   sachet_3g_8  sachet_3g_9   aon  aug_vbc_3g  jul_vbc_3g  jun_vbc_3g  \\\n",
       "0            0            0   968        30.4         0.0      101.20   \n",
       "1            0            0  1006         0.0         0.0        0.00   \n",
       "2            0            0  1103         0.0         0.0        4.17   \n",
       "3            0            0  2491         0.0         0.0        0.00   \n",
       "4            0            0  1526         0.0         0.0        0.00   \n",
       "\n",
       "   sep_vbc_3g  first_recharge_gap  second_recharge_gap  third_recharge_gap  \n",
       "0        3.58                25.0                 23.0                51.0  \n",
       "1        0.00                32.0                 28.0                33.0  \n",
       "2        0.00                37.0                 21.0                46.0  \n",
       "3        0.00                33.0                 31.0                30.0  \n",
       "4        0.00                32.0                 12.0                50.0  \n",
       "\n",
       "[5 rows x 181 columns]"
      ]
     },
     "execution_count": 33,
     "metadata": {},
     "output_type": "execute_result"
    }
   ],
   "source": [
    "derived_df = cleaned_churn_df.drop(labels=date_attributes,axis=1)\n",
    "derived_df['first_recharge_gap']= derived_df['first_recharge_gap']/np.timedelta64(1,'D')\n",
    "derived_df['second_recharge_gap']= derived_df['second_recharge_gap']/np.timedelta64(1,'D')\n",
    "derived_df['third_recharge_gap']= derived_df['third_recharge_gap']/np.timedelta64(1,'D')\n",
    "\n",
    "\n",
    "derived_df.head()"
   ]
  },
  {
   "cell_type": "code",
   "execution_count": 34,
   "metadata": {},
   "outputs": [
    {
     "data": {
      "text/html": [
       "<div>\n",
       "<style scoped>\n",
       "    .dataframe tbody tr th:only-of-type {\n",
       "        vertical-align: middle;\n",
       "    }\n",
       "\n",
       "    .dataframe tbody tr th {\n",
       "        vertical-align: top;\n",
       "    }\n",
       "\n",
       "    .dataframe thead th {\n",
       "        text-align: right;\n",
       "    }\n",
       "</style>\n",
       "<table border=\"1\" class=\"dataframe\">\n",
       "  <thead>\n",
       "    <tr style=\"text-align: right;\">\n",
       "      <th></th>\n",
       "      <th>total_rech_num_6</th>\n",
       "      <th>total_rech_num_7</th>\n",
       "      <th>total_rech_num_8</th>\n",
       "      <th>total_rech_num_9</th>\n",
       "      <th>total_rech_amt_6</th>\n",
       "      <th>total_rech_amt_7</th>\n",
       "      <th>total_rech_amt_8</th>\n",
       "      <th>total_rech_amt_9</th>\n",
       "      <th>max_rech_amt_6</th>\n",
       "      <th>max_rech_amt_7</th>\n",
       "      <th>max_rech_amt_8</th>\n",
       "      <th>max_rech_amt_9</th>\n",
       "      <th>first_recharge_gap</th>\n",
       "      <th>second_recharge_gap</th>\n",
       "      <th>third_recharge_gap</th>\n",
       "    </tr>\n",
       "  </thead>\n",
       "  <tbody>\n",
       "    <tr>\n",
       "      <th>0</th>\n",
       "      <td>4</td>\n",
       "      <td>3</td>\n",
       "      <td>2</td>\n",
       "      <td>6</td>\n",
       "      <td>362</td>\n",
       "      <td>252</td>\n",
       "      <td>252</td>\n",
       "      <td>0</td>\n",
       "      <td>252</td>\n",
       "      <td>252</td>\n",
       "      <td>252</td>\n",
       "      <td>0</td>\n",
       "      <td>25.0</td>\n",
       "      <td>23.0</td>\n",
       "      <td>51.0</td>\n",
       "    </tr>\n",
       "    <tr>\n",
       "      <th>1</th>\n",
       "      <td>4</td>\n",
       "      <td>9</td>\n",
       "      <td>11</td>\n",
       "      <td>5</td>\n",
       "      <td>74</td>\n",
       "      <td>384</td>\n",
       "      <td>283</td>\n",
       "      <td>121</td>\n",
       "      <td>44</td>\n",
       "      <td>154</td>\n",
       "      <td>65</td>\n",
       "      <td>50</td>\n",
       "      <td>32.0</td>\n",
       "      <td>28.0</td>\n",
       "      <td>33.0</td>\n",
       "    </tr>\n",
       "    <tr>\n",
       "      <th>2</th>\n",
       "      <td>5</td>\n",
       "      <td>4</td>\n",
       "      <td>2</td>\n",
       "      <td>7</td>\n",
       "      <td>168</td>\n",
       "      <td>315</td>\n",
       "      <td>116</td>\n",
       "      <td>358</td>\n",
       "      <td>86</td>\n",
       "      <td>200</td>\n",
       "      <td>86</td>\n",
       "      <td>100</td>\n",
       "      <td>37.0</td>\n",
       "      <td>21.0</td>\n",
       "      <td>46.0</td>\n",
       "    </tr>\n",
       "    <tr>\n",
       "      <th>3</th>\n",
       "      <td>10</td>\n",
       "      <td>11</td>\n",
       "      <td>18</td>\n",
       "      <td>14</td>\n",
       "      <td>230</td>\n",
       "      <td>310</td>\n",
       "      <td>601</td>\n",
       "      <td>410</td>\n",
       "      <td>60</td>\n",
       "      <td>50</td>\n",
       "      <td>50</td>\n",
       "      <td>50</td>\n",
       "      <td>33.0</td>\n",
       "      <td>31.0</td>\n",
       "      <td>30.0</td>\n",
       "    </tr>\n",
       "    <tr>\n",
       "      <th>4</th>\n",
       "      <td>5</td>\n",
       "      <td>6</td>\n",
       "      <td>3</td>\n",
       "      <td>4</td>\n",
       "      <td>196</td>\n",
       "      <td>350</td>\n",
       "      <td>287</td>\n",
       "      <td>200</td>\n",
       "      <td>56</td>\n",
       "      <td>110</td>\n",
       "      <td>110</td>\n",
       "      <td>50</td>\n",
       "      <td>32.0</td>\n",
       "      <td>12.0</td>\n",
       "      <td>50.0</td>\n",
       "    </tr>\n",
       "  </tbody>\n",
       "</table>\n",
       "</div>"
      ],
      "text/plain": [
       "   total_rech_num_6  total_rech_num_7  total_rech_num_8  total_rech_num_9  \\\n",
       "0                 4                 3                 2                 6   \n",
       "1                 4                 9                11                 5   \n",
       "2                 5                 4                 2                 7   \n",
       "3                10                11                18                14   \n",
       "4                 5                 6                 3                 4   \n",
       "\n",
       "   total_rech_amt_6  total_rech_amt_7  total_rech_amt_8  total_rech_amt_9  \\\n",
       "0               362               252               252                 0   \n",
       "1                74               384               283               121   \n",
       "2               168               315               116               358   \n",
       "3               230               310               601               410   \n",
       "4               196               350               287               200   \n",
       "\n",
       "   max_rech_amt_6  max_rech_amt_7  max_rech_amt_8  max_rech_amt_9  \\\n",
       "0             252             252             252               0   \n",
       "1              44             154              65              50   \n",
       "2              86             200              86             100   \n",
       "3              60              50              50              50   \n",
       "4              56             110             110              50   \n",
       "\n",
       "   first_recharge_gap  second_recharge_gap  third_recharge_gap  \n",
       "0                25.0                 23.0                51.0  \n",
       "1                32.0                 28.0                33.0  \n",
       "2                37.0                 21.0                46.0  \n",
       "3                33.0                 31.0                30.0  \n",
       "4                32.0                 12.0                50.0  "
      ]
     },
     "execution_count": 34,
     "metadata": {},
     "output_type": "execute_result"
    }
   ],
   "source": [
    "#cleaned_df['avg_recharge_goodPhase'] = \n",
    "recharge_attributes_df = derived_df.filter(regex='rech')\n",
    "recharge_attributes_df.head()"
   ]
  },
  {
   "cell_type": "code",
   "execution_count": 35,
   "metadata": {},
   "outputs": [
    {
     "data": {
      "text/plain": [
       "Index(['total_rech_num_6', 'total_rech_num_7', 'total_rech_num_8',\n",
       "       'total_rech_num_9', 'total_rech_amt_6', 'total_rech_amt_7',\n",
       "       'total_rech_amt_8', 'total_rech_amt_9', 'max_rech_amt_6',\n",
       "       'max_rech_amt_7', 'max_rech_amt_8', 'max_rech_amt_9',\n",
       "       'first_recharge_gap', 'second_recharge_gap', 'third_recharge_gap'],\n",
       "      dtype='object')"
      ]
     },
     "execution_count": 35,
     "metadata": {},
     "output_type": "execute_result"
    }
   ],
   "source": [
    "recharge_attributes_df.columns"
   ]
  },
  {
   "cell_type": "markdown",
   "metadata": {},
   "source": [
    "#### Considering Total recharge amount  total_rech_amt_* to derived high end customer\n"
   ]
  },
  {
   "cell_type": "code",
   "execution_count": 36,
   "metadata": {},
   "outputs": [],
   "source": [
    "#derived_df.filter(regex='rech').columns"
   ]
  },
  {
   "cell_type": "code",
   "execution_count": 37,
   "metadata": {},
   "outputs": [
    {
     "data": {
      "text/plain": [
       "count    91319.000000\n",
       "mean       336.553707\n",
       "std        377.419344\n",
       "min          0.000000\n",
       "25%        123.000000\n",
       "50%        240.000000\n",
       "75%        433.500000\n",
       "max      37762.500000\n",
       "Name: av_amt_rech_good_phase, dtype: float64"
      ]
     },
     "execution_count": 37,
     "metadata": {},
     "output_type": "execute_result"
    }
   ],
   "source": [
    "## Average of Good Phase will be avg of 6th and 7th Month amount\n",
    "derived_df['av_amt_rech_good_phase'] = (derived_df['total_rech_amt_6'] + derived_df['total_rech_amt_7'])/2\n",
    "derived_df['av_amt_rech_good_phase'].describe()"
   ]
  },
  {
   "cell_type": "code",
   "execution_count": 38,
   "metadata": {},
   "outputs": [],
   "source": [
    "# Calculating 70% percentile vale\n",
    "X= derived_df.av_amt_rech_good_phase.quantile(0.7)"
   ]
  },
  {
   "cell_type": "code",
   "execution_count": 39,
   "metadata": {},
   "outputs": [
    {
     "data": {
      "text/html": [
       "<div>\n",
       "<style scoped>\n",
       "    .dataframe tbody tr th:only-of-type {\n",
       "        vertical-align: middle;\n",
       "    }\n",
       "\n",
       "    .dataframe tbody tr th {\n",
       "        vertical-align: top;\n",
       "    }\n",
       "\n",
       "    .dataframe thead th {\n",
       "        text-align: right;\n",
       "    }\n",
       "</style>\n",
       "<table border=\"1\" class=\"dataframe\">\n",
       "  <thead>\n",
       "    <tr style=\"text-align: right;\">\n",
       "      <th></th>\n",
       "      <th>mobile_number</th>\n",
       "      <th>circle_id</th>\n",
       "      <th>loc_og_t2o_mou</th>\n",
       "      <th>std_og_t2o_mou</th>\n",
       "      <th>loc_ic_t2o_mou</th>\n",
       "      <th>arpu_6</th>\n",
       "      <th>arpu_7</th>\n",
       "      <th>arpu_8</th>\n",
       "      <th>arpu_9</th>\n",
       "      <th>onnet_mou_6</th>\n",
       "      <th>...</th>\n",
       "      <th>sachet_3g_9</th>\n",
       "      <th>aon</th>\n",
       "      <th>aug_vbc_3g</th>\n",
       "      <th>jul_vbc_3g</th>\n",
       "      <th>jun_vbc_3g</th>\n",
       "      <th>sep_vbc_3g</th>\n",
       "      <th>first_recharge_gap</th>\n",
       "      <th>second_recharge_gap</th>\n",
       "      <th>third_recharge_gap</th>\n",
       "      <th>av_amt_rech_good_phase</th>\n",
       "    </tr>\n",
       "  </thead>\n",
       "  <tbody>\n",
       "    <tr>\n",
       "      <th>7</th>\n",
       "      <td>7000701601</td>\n",
       "      <td>109</td>\n",
       "      <td>0.0</td>\n",
       "      <td>0.0</td>\n",
       "      <td>0.0</td>\n",
       "      <td>1069.180</td>\n",
       "      <td>1349.850</td>\n",
       "      <td>3171.480</td>\n",
       "      <td>500.000</td>\n",
       "      <td>57.84</td>\n",
       "      <td>...</td>\n",
       "      <td>0</td>\n",
       "      <td>802</td>\n",
       "      <td>57.74</td>\n",
       "      <td>19.38</td>\n",
       "      <td>18.74</td>\n",
       "      <td>0.0</td>\n",
       "      <td>28.0</td>\n",
       "      <td>32.0</td>\n",
       "      <td>35.0</td>\n",
       "      <td>1185.0</td>\n",
       "    </tr>\n",
       "    <tr>\n",
       "      <th>8</th>\n",
       "      <td>7001524846</td>\n",
       "      <td>109</td>\n",
       "      <td>0.0</td>\n",
       "      <td>0.0</td>\n",
       "      <td>0.0</td>\n",
       "      <td>378.721</td>\n",
       "      <td>492.223</td>\n",
       "      <td>137.362</td>\n",
       "      <td>166.787</td>\n",
       "      <td>413.69</td>\n",
       "      <td>...</td>\n",
       "      <td>0</td>\n",
       "      <td>315</td>\n",
       "      <td>21.03</td>\n",
       "      <td>910.65</td>\n",
       "      <td>122.16</td>\n",
       "      <td>0.0</td>\n",
       "      <td>36.0</td>\n",
       "      <td>30.0</td>\n",
       "      <td>31.0</td>\n",
       "      <td>519.0</td>\n",
       "    </tr>\n",
       "    <tr>\n",
       "      <th>13</th>\n",
       "      <td>7002191713</td>\n",
       "      <td>109</td>\n",
       "      <td>0.0</td>\n",
       "      <td>0.0</td>\n",
       "      <td>0.0</td>\n",
       "      <td>492.846</td>\n",
       "      <td>205.671</td>\n",
       "      <td>593.260</td>\n",
       "      <td>322.732</td>\n",
       "      <td>501.76</td>\n",
       "      <td>...</td>\n",
       "      <td>0</td>\n",
       "      <td>2607</td>\n",
       "      <td>0.00</td>\n",
       "      <td>0.00</td>\n",
       "      <td>0.00</td>\n",
       "      <td>0.0</td>\n",
       "      <td>32.0</td>\n",
       "      <td>39.0</td>\n",
       "      <td>27.0</td>\n",
       "      <td>380.0</td>\n",
       "    </tr>\n",
       "    <tr>\n",
       "      <th>16</th>\n",
       "      <td>7000875565</td>\n",
       "      <td>109</td>\n",
       "      <td>0.0</td>\n",
       "      <td>0.0</td>\n",
       "      <td>0.0</td>\n",
       "      <td>430.975</td>\n",
       "      <td>299.869</td>\n",
       "      <td>187.894</td>\n",
       "      <td>206.490</td>\n",
       "      <td>50.51</td>\n",
       "      <td>...</td>\n",
       "      <td>0</td>\n",
       "      <td>511</td>\n",
       "      <td>0.00</td>\n",
       "      <td>2.45</td>\n",
       "      <td>21.89</td>\n",
       "      <td>0.0</td>\n",
       "      <td>31.0</td>\n",
       "      <td>14.0</td>\n",
       "      <td>27.0</td>\n",
       "      <td>459.0</td>\n",
       "    </tr>\n",
       "    <tr>\n",
       "      <th>17</th>\n",
       "      <td>7000187447</td>\n",
       "      <td>109</td>\n",
       "      <td>0.0</td>\n",
       "      <td>0.0</td>\n",
       "      <td>0.0</td>\n",
       "      <td>690.008</td>\n",
       "      <td>18.980</td>\n",
       "      <td>25.499</td>\n",
       "      <td>257.583</td>\n",
       "      <td>1185.91</td>\n",
       "      <td>...</td>\n",
       "      <td>0</td>\n",
       "      <td>667</td>\n",
       "      <td>0.00</td>\n",
       "      <td>0.00</td>\n",
       "      <td>0.00</td>\n",
       "      <td>0.0</td>\n",
       "      <td>30.0</td>\n",
       "      <td>26.0</td>\n",
       "      <td>35.0</td>\n",
       "      <td>408.0</td>\n",
       "    </tr>\n",
       "  </tbody>\n",
       "</table>\n",
       "<p>5 rows × 182 columns</p>\n",
       "</div>"
      ],
      "text/plain": [
       "    mobile_number  circle_id  loc_og_t2o_mou  std_og_t2o_mou  loc_ic_t2o_mou  \\\n",
       "7      7000701601        109             0.0             0.0             0.0   \n",
       "8      7001524846        109             0.0             0.0             0.0   \n",
       "13     7002191713        109             0.0             0.0             0.0   \n",
       "16     7000875565        109             0.0             0.0             0.0   \n",
       "17     7000187447        109             0.0             0.0             0.0   \n",
       "\n",
       "      arpu_6    arpu_7    arpu_8   arpu_9  onnet_mou_6  \\\n",
       "7   1069.180  1349.850  3171.480  500.000        57.84   \n",
       "8    378.721   492.223   137.362  166.787       413.69   \n",
       "13   492.846   205.671   593.260  322.732       501.76   \n",
       "16   430.975   299.869   187.894  206.490        50.51   \n",
       "17   690.008    18.980    25.499  257.583      1185.91   \n",
       "\n",
       "             ...            sachet_3g_9   aon  aug_vbc_3g  jul_vbc_3g  \\\n",
       "7            ...                      0   802       57.74       19.38   \n",
       "8            ...                      0   315       21.03      910.65   \n",
       "13           ...                      0  2607        0.00        0.00   \n",
       "16           ...                      0   511        0.00        2.45   \n",
       "17           ...                      0   667        0.00        0.00   \n",
       "\n",
       "    jun_vbc_3g  sep_vbc_3g  first_recharge_gap  second_recharge_gap  \\\n",
       "7        18.74         0.0                28.0                 32.0   \n",
       "8       122.16         0.0                36.0                 30.0   \n",
       "13        0.00         0.0                32.0                 39.0   \n",
       "16       21.89         0.0                31.0                 14.0   \n",
       "17        0.00         0.0                30.0                 26.0   \n",
       "\n",
       "    third_recharge_gap  av_amt_rech_good_phase  \n",
       "7                 35.0                  1185.0  \n",
       "8                 31.0                   519.0  \n",
       "13                27.0                   380.0  \n",
       "16                27.0                   459.0  \n",
       "17                35.0                   408.0  \n",
       "\n",
       "[5 rows x 182 columns]"
      ]
     },
     "execution_count": 39,
     "metadata": {},
     "output_type": "execute_result"
    }
   ],
   "source": [
    "high_usage_customer = derived_df.loc[derived_df['av_amt_rech_good_phase'] >= X]\n",
    "high_usage_customer.head()"
   ]
  },
  {
   "cell_type": "code",
   "execution_count": 40,
   "metadata": {},
   "outputs": [
    {
     "data": {
      "text/plain": [
       "(27494, 182)"
      ]
     },
     "execution_count": 40,
     "metadata": {},
     "output_type": "execute_result"
    }
   ],
   "source": [
    "high_usage_customer.shape"
   ]
  },
  {
   "cell_type": "markdown",
   "metadata": {},
   "source": [
    "#### Now need to derive all 9th month data and customer usage data to tag Churn or not Churn"
   ]
  },
  {
   "cell_type": "code",
   "execution_count": 41,
   "metadata": {},
   "outputs": [
    {
     "data": {
      "text/plain": [
       "Index(['arpu_9', 'onnet_mou_9', 'offnet_mou_9', 'roam_ic_mou_9',\n",
       "       'roam_og_mou_9', 'loc_og_t2t_mou_9', 'loc_og_t2m_mou_9',\n",
       "       'loc_og_t2f_mou_9', 'loc_og_t2c_mou_9', 'loc_og_mou_9',\n",
       "       'std_og_t2t_mou_9', 'std_og_t2m_mou_9', 'std_og_t2f_mou_9',\n",
       "       'std_og_t2c_mou_9', 'std_og_mou_9', 'isd_og_mou_9', 'spl_og_mou_9',\n",
       "       'og_others_9', 'total_og_mou_9', 'loc_ic_t2t_mou_9', 'loc_ic_t2m_mou_9',\n",
       "       'loc_ic_t2f_mou_9', 'loc_ic_mou_9', 'std_ic_t2t_mou_9',\n",
       "       'std_ic_t2m_mou_9', 'std_ic_t2f_mou_9', 'std_ic_t2o_mou_9',\n",
       "       'std_ic_mou_9', 'total_ic_mou_9', 'spl_ic_mou_9', 'isd_ic_mou_9',\n",
       "       'ic_others_9', 'total_rech_num_9', 'total_rech_amt_9', 'max_rech_amt_9',\n",
       "       'last_day_rch_amt_9', 'vol_2g_mb_9', 'vol_3g_mb_9', 'monthly_2g_9',\n",
       "       'sachet_2g_9', 'monthly_3g_9', 'sachet_3g_9'],\n",
       "      dtype='object')"
      ]
     },
     "execution_count": 41,
     "metadata": {},
     "output_type": "execute_result"
    }
   ],
   "source": [
    "churn_phase_attributes = high_usage_customer.filter(regex='_9').columns\n",
    "churn_phase_attributes"
   ]
  },
  {
   "cell_type": "code",
   "execution_count": 42,
   "metadata": {},
   "outputs": [],
   "source": [
    "#total_ic_mou_9,total_og_mou_9,vol_2g_mb_9,vol_3g_mb_9\n",
    "churn_phase_decision_making_attributes= ['total_ic_mou_9','total_og_mou_9','vol_2g_mb_9','vol_3g_mb_9']\n",
    "high_usage_customer['churn']=high_usage_customer[churn_phase_decision_making_attributes].sum(axis=1)\n",
    "high_usage_customer['churn'] = high_usage_customer['churn'] > 0\n",
    "high_usage_customer['churn'] = high_usage_customer['churn'].map({True:0,False:1})"
   ]
  },
  {
   "cell_type": "markdown",
   "metadata": {},
   "source": [
    "#### Droping Churn phase atributes"
   ]
  },
  {
   "cell_type": "code",
   "execution_count": 43,
   "metadata": {},
   "outputs": [
    {
     "data": {
      "text/html": [
       "<div>\n",
       "<style scoped>\n",
       "    .dataframe tbody tr th:only-of-type {\n",
       "        vertical-align: middle;\n",
       "    }\n",
       "\n",
       "    .dataframe tbody tr th {\n",
       "        vertical-align: top;\n",
       "    }\n",
       "\n",
       "    .dataframe thead th {\n",
       "        text-align: right;\n",
       "    }\n",
       "</style>\n",
       "<table border=\"1\" class=\"dataframe\">\n",
       "  <thead>\n",
       "    <tr style=\"text-align: right;\">\n",
       "      <th></th>\n",
       "      <th>mobile_number</th>\n",
       "      <th>circle_id</th>\n",
       "      <th>loc_og_t2o_mou</th>\n",
       "      <th>std_og_t2o_mou</th>\n",
       "      <th>loc_ic_t2o_mou</th>\n",
       "      <th>arpu_6</th>\n",
       "      <th>arpu_7</th>\n",
       "      <th>arpu_8</th>\n",
       "      <th>onnet_mou_6</th>\n",
       "      <th>onnet_mou_7</th>\n",
       "      <th>...</th>\n",
       "      <th>aon</th>\n",
       "      <th>aug_vbc_3g</th>\n",
       "      <th>jul_vbc_3g</th>\n",
       "      <th>jun_vbc_3g</th>\n",
       "      <th>sep_vbc_3g</th>\n",
       "      <th>first_recharge_gap</th>\n",
       "      <th>second_recharge_gap</th>\n",
       "      <th>third_recharge_gap</th>\n",
       "      <th>av_amt_rech_good_phase</th>\n",
       "      <th>churn</th>\n",
       "    </tr>\n",
       "  </thead>\n",
       "  <tbody>\n",
       "    <tr>\n",
       "      <th>7</th>\n",
       "      <td>7000701601</td>\n",
       "      <td>109</td>\n",
       "      <td>0.0</td>\n",
       "      <td>0.0</td>\n",
       "      <td>0.0</td>\n",
       "      <td>1069.180</td>\n",
       "      <td>1349.850</td>\n",
       "      <td>3171.480</td>\n",
       "      <td>57.84</td>\n",
       "      <td>54.68</td>\n",
       "      <td>...</td>\n",
       "      <td>802</td>\n",
       "      <td>57.74</td>\n",
       "      <td>19.38</td>\n",
       "      <td>18.74</td>\n",
       "      <td>0.0</td>\n",
       "      <td>28.0</td>\n",
       "      <td>32.0</td>\n",
       "      <td>35.0</td>\n",
       "      <td>1185.0</td>\n",
       "      <td>1</td>\n",
       "    </tr>\n",
       "    <tr>\n",
       "      <th>8</th>\n",
       "      <td>7001524846</td>\n",
       "      <td>109</td>\n",
       "      <td>0.0</td>\n",
       "      <td>0.0</td>\n",
       "      <td>0.0</td>\n",
       "      <td>378.721</td>\n",
       "      <td>492.223</td>\n",
       "      <td>137.362</td>\n",
       "      <td>413.69</td>\n",
       "      <td>351.03</td>\n",
       "      <td>...</td>\n",
       "      <td>315</td>\n",
       "      <td>21.03</td>\n",
       "      <td>910.65</td>\n",
       "      <td>122.16</td>\n",
       "      <td>0.0</td>\n",
       "      <td>36.0</td>\n",
       "      <td>30.0</td>\n",
       "      <td>31.0</td>\n",
       "      <td>519.0</td>\n",
       "      <td>0</td>\n",
       "    </tr>\n",
       "    <tr>\n",
       "      <th>13</th>\n",
       "      <td>7002191713</td>\n",
       "      <td>109</td>\n",
       "      <td>0.0</td>\n",
       "      <td>0.0</td>\n",
       "      <td>0.0</td>\n",
       "      <td>492.846</td>\n",
       "      <td>205.671</td>\n",
       "      <td>593.260</td>\n",
       "      <td>501.76</td>\n",
       "      <td>108.39</td>\n",
       "      <td>...</td>\n",
       "      <td>2607</td>\n",
       "      <td>0.00</td>\n",
       "      <td>0.00</td>\n",
       "      <td>0.00</td>\n",
       "      <td>0.0</td>\n",
       "      <td>32.0</td>\n",
       "      <td>39.0</td>\n",
       "      <td>27.0</td>\n",
       "      <td>380.0</td>\n",
       "      <td>0</td>\n",
       "    </tr>\n",
       "    <tr>\n",
       "      <th>16</th>\n",
       "      <td>7000875565</td>\n",
       "      <td>109</td>\n",
       "      <td>0.0</td>\n",
       "      <td>0.0</td>\n",
       "      <td>0.0</td>\n",
       "      <td>430.975</td>\n",
       "      <td>299.869</td>\n",
       "      <td>187.894</td>\n",
       "      <td>50.51</td>\n",
       "      <td>74.01</td>\n",
       "      <td>...</td>\n",
       "      <td>511</td>\n",
       "      <td>0.00</td>\n",
       "      <td>2.45</td>\n",
       "      <td>21.89</td>\n",
       "      <td>0.0</td>\n",
       "      <td>31.0</td>\n",
       "      <td>14.0</td>\n",
       "      <td>27.0</td>\n",
       "      <td>459.0</td>\n",
       "      <td>0</td>\n",
       "    </tr>\n",
       "    <tr>\n",
       "      <th>17</th>\n",
       "      <td>7000187447</td>\n",
       "      <td>109</td>\n",
       "      <td>0.0</td>\n",
       "      <td>0.0</td>\n",
       "      <td>0.0</td>\n",
       "      <td>690.008</td>\n",
       "      <td>18.980</td>\n",
       "      <td>25.499</td>\n",
       "      <td>1185.91</td>\n",
       "      <td>9.28</td>\n",
       "      <td>...</td>\n",
       "      <td>667</td>\n",
       "      <td>0.00</td>\n",
       "      <td>0.00</td>\n",
       "      <td>0.00</td>\n",
       "      <td>0.0</td>\n",
       "      <td>30.0</td>\n",
       "      <td>26.0</td>\n",
       "      <td>35.0</td>\n",
       "      <td>408.0</td>\n",
       "      <td>0</td>\n",
       "    </tr>\n",
       "  </tbody>\n",
       "</table>\n",
       "<p>5 rows × 141 columns</p>\n",
       "</div>"
      ],
      "text/plain": [
       "    mobile_number  circle_id  loc_og_t2o_mou  std_og_t2o_mou  loc_ic_t2o_mou  \\\n",
       "7      7000701601        109             0.0             0.0             0.0   \n",
       "8      7001524846        109             0.0             0.0             0.0   \n",
       "13     7002191713        109             0.0             0.0             0.0   \n",
       "16     7000875565        109             0.0             0.0             0.0   \n",
       "17     7000187447        109             0.0             0.0             0.0   \n",
       "\n",
       "      arpu_6    arpu_7    arpu_8  onnet_mou_6  onnet_mou_7  ...     aon  \\\n",
       "7   1069.180  1349.850  3171.480        57.84        54.68  ...     802   \n",
       "8    378.721   492.223   137.362       413.69       351.03  ...     315   \n",
       "13   492.846   205.671   593.260       501.76       108.39  ...    2607   \n",
       "16   430.975   299.869   187.894        50.51        74.01  ...     511   \n",
       "17   690.008    18.980    25.499      1185.91         9.28  ...     667   \n",
       "\n",
       "    aug_vbc_3g  jul_vbc_3g  jun_vbc_3g  sep_vbc_3g  first_recharge_gap  \\\n",
       "7        57.74       19.38       18.74         0.0                28.0   \n",
       "8        21.03      910.65      122.16         0.0                36.0   \n",
       "13        0.00        0.00        0.00         0.0                32.0   \n",
       "16        0.00        2.45       21.89         0.0                31.0   \n",
       "17        0.00        0.00        0.00         0.0                30.0   \n",
       "\n",
       "    second_recharge_gap  third_recharge_gap  av_amt_rech_good_phase  churn  \n",
       "7                  32.0                35.0                  1185.0      1  \n",
       "8                  30.0                31.0                   519.0      0  \n",
       "13                 39.0                27.0                   380.0      0  \n",
       "16                 14.0                27.0                   459.0      0  \n",
       "17                 26.0                35.0                   408.0      0  \n",
       "\n",
       "[5 rows x 141 columns]"
      ]
     },
     "execution_count": 43,
     "metadata": {},
     "output_type": "execute_result"
    }
   ],
   "source": [
    "action_phase_df = high_usage_customer.drop(labels=churn_phase_attributes,axis=1)\n",
    "action_phase_df.head()"
   ]
  },
  {
   "cell_type": "code",
   "execution_count": 44,
   "metadata": {},
   "outputs": [],
   "source": [
    "### Remove missing row from dataframe\n",
    "action_phase_df = action_phase_df.dropna(axis=0,how='any')"
   ]
  },
  {
   "cell_type": "code",
   "execution_count": 45,
   "metadata": {},
   "outputs": [
    {
     "data": {
      "text/plain": [
       "(27494, 141)"
      ]
     },
     "execution_count": 45,
     "metadata": {},
     "output_type": "execute_result"
    }
   ],
   "source": [
    "action_phase_df.shape"
   ]
  },
  {
   "cell_type": "markdown",
   "metadata": {},
   "source": [
    "#### Combine all Good phase attributes as one attributes"
   ]
  },
  {
   "cell_type": "code",
   "execution_count": 46,
   "metadata": {},
   "outputs": [
    {
     "name": "stdout",
     "output_type": "stream",
     "text": [
      "Index(['arpu_6', 'onnet_mou_6', 'offnet_mou_6', 'roam_ic_mou_6',\n",
      "       'roam_og_mou_6', 'loc_og_t2t_mou_6', 'loc_og_t2m_mou_6',\n",
      "       'loc_og_t2f_mou_6', 'loc_og_t2c_mou_6', 'loc_og_mou_6',\n",
      "       'std_og_t2t_mou_6', 'std_og_t2m_mou_6', 'std_og_t2f_mou_6',\n",
      "       'std_og_t2c_mou_6', 'std_og_mou_6', 'isd_og_mou_6', 'spl_og_mou_6',\n",
      "       'og_others_6', 'total_og_mou_6', 'loc_ic_t2t_mou_6', 'loc_ic_t2m_mou_6',\n",
      "       'loc_ic_t2f_mou_6', 'loc_ic_mou_6', 'std_ic_t2t_mou_6',\n",
      "       'std_ic_t2m_mou_6', 'std_ic_t2f_mou_6', 'std_ic_t2o_mou_6',\n",
      "       'std_ic_mou_6', 'total_ic_mou_6', 'spl_ic_mou_6', 'isd_ic_mou_6',\n",
      "       'ic_others_6', 'total_rech_num_6', 'total_rech_amt_6', 'max_rech_amt_6',\n",
      "       'last_day_rch_amt_6', 'vol_2g_mb_6', 'vol_3g_mb_6', 'monthly_2g_6',\n",
      "       'sachet_2g_6', 'monthly_3g_6', 'sachet_3g_6'],\n",
      "      dtype='object')\n",
      "Index(['arpu_7', 'onnet_mou_7', 'offnet_mou_7', 'roam_ic_mou_7',\n",
      "       'roam_og_mou_7', 'loc_og_t2t_mou_7', 'loc_og_t2m_mou_7',\n",
      "       'loc_og_t2f_mou_7', 'loc_og_t2c_mou_7', 'loc_og_mou_7',\n",
      "       'std_og_t2t_mou_7', 'std_og_t2m_mou_7', 'std_og_t2f_mou_7',\n",
      "       'std_og_t2c_mou_7', 'std_og_mou_7', 'isd_og_mou_7', 'spl_og_mou_7',\n",
      "       'og_others_7', 'total_og_mou_7', 'loc_ic_t2t_mou_7', 'loc_ic_t2m_mou_7',\n",
      "       'loc_ic_t2f_mou_7', 'loc_ic_mou_7', 'std_ic_t2t_mou_7',\n",
      "       'std_ic_t2m_mou_7', 'std_ic_t2f_mou_7', 'std_ic_t2o_mou_7',\n",
      "       'std_ic_mou_7', 'total_ic_mou_7', 'spl_ic_mou_7', 'isd_ic_mou_7',\n",
      "       'ic_others_7', 'total_rech_num_7', 'total_rech_amt_7', 'max_rech_amt_7',\n",
      "       'last_day_rch_amt_7', 'vol_2g_mb_7', 'vol_3g_mb_7', 'monthly_2g_7',\n",
      "       'sachet_2g_7', 'monthly_3g_7', 'sachet_3g_7'],\n",
      "      dtype='object')\n"
     ]
    }
   ],
   "source": [
    "good_phase_attributes6  = action_phase_df.filter(regex='_6').columns\n",
    "good_phase_attributes7 = action_phase_df.filter(regex='_7').columns\n",
    "\n",
    "print(good_phase_attributes6)\n",
    "print(good_phase_attributes7)\n",
    "\n",
    "action_phase_df['arpu_'] = (action_phase_df['arpu_6'] + action_phase_df['arpu_7'])/2\n",
    "#action_phase_df['onmet_mou_'] = (action_phase_df['onmet_mou_6'] + action_phase_df['onmet_mou_7'])/2\n",
    "action_phase_df['offnet_mou_'] = (action_phase_df['offnet_mou_6'] + action_phase_df['offnet_mou_7'])/2\n",
    "action_phase_df['roam_ic_mou_'] = (action_phase_df['roam_ic_mou_6'] + action_phase_df['roam_ic_mou_7'])/2\n",
    "action_phase_df['roam_og_mou_'] = (action_phase_df['roam_og_mou_6'] + action_phase_df['roam_og_mou_7'])/2\n",
    "action_phase_df['loc_og_t2t_mou_'] = (action_phase_df['loc_og_t2t_mou_6'] + action_phase_df['loc_og_t2t_mou_7'])/2\n",
    "action_phase_df['loc_og_t2c_mou_'] = (action_phase_df['loc_og_t2c_mou_6'] + action_phase_df['loc_og_t2c_mou_7'])/2\n",
    "action_phase_df['loc_og_mou_'] = (action_phase_df['loc_og_mou_6'] + action_phase_df['loc_og_mou_7'])/2\n",
    "action_phase_df['std_og_t2t_mou_'] = (action_phase_df['std_og_t2t_mou_6'] + action_phase_df['std_og_t2t_mou_7'])/2\n",
    "action_phase_df['std_og_t2m_mou_'] = (action_phase_df['std_og_t2m_mou_6'] + action_phase_df['std_og_t2m_mou_7'])/2\n",
    "action_phase_df['std_og_t2f_mou_'] = (action_phase_df['std_og_t2f_mou_6'] + action_phase_df['std_og_t2f_mou_7'])/2\n",
    "action_phase_df['std_og_t2c_mou_'] = (action_phase_df['std_og_t2c_mou_6'] + action_phase_df['std_og_t2c_mou_7'])/2\n",
    "action_phase_df['std_og_mou_'] = (action_phase_df['std_og_mou_6'] + action_phase_df['std_og_mou_7'])/2\n",
    "action_phase_df['isd_og_mou_'] = (action_phase_df['isd_og_mou_6'] + action_phase_df['isd_og_mou_7'])/2\n",
    "action_phase_df['spl_og_mou_'] = (action_phase_df['spl_og_mou_6'] + action_phase_df['spl_og_mou_7'])/2\n",
    "action_phase_df['og_others_'] = (action_phase_df['og_others_6'] + action_phase_df['og_others_7'])/2\n",
    "action_phase_df['total_og_mou_'] = (action_phase_df['total_og_mou_6'] + action_phase_df['total_og_mou_7'])/2\n",
    "action_phase_df['loc_ic_t2t_mou_'] = (action_phase_df['loc_ic_t2t_mou_6'] + action_phase_df['loc_ic_t2t_mou_7'])/2\n",
    "action_phase_df['loc_ic_t2m_mou_'] = (action_phase_df['loc_ic_t2m_mou_6'] + action_phase_df['loc_ic_t2m_mou_7'])/2\n",
    "action_phase_df['loc_ic_t2f_mou_'] = (action_phase_df['loc_ic_t2f_mou_6'] + action_phase_df['loc_ic_t2f_mou_7'])/2\n",
    "action_phase_df['loc_ic_mou_'] = (action_phase_df['loc_ic_mou_6'] + action_phase_df['loc_ic_mou_7'])/2\n",
    "\n",
    "\n",
    "action_phase_df['std_ic_t2t_mou_'] = (action_phase_df['std_ic_t2t_mou_6'] + action_phase_df['std_ic_t2t_mou_7'])/2\n",
    "action_phase_df['std_ic_t2m_mou_'] = (action_phase_df['std_ic_t2m_mou_6'] + action_phase_df['std_ic_t2m_mou_7'])/2\n",
    "action_phase_df['std_ic_t2f_mou_'] = (action_phase_df['std_ic_t2f_mou_6'] + action_phase_df['std_ic_t2f_mou_7'])/2\n",
    "action_phase_df['std_ic_t2o_mou_'] = (action_phase_df['std_ic_t2o_mou_6'] + action_phase_df['std_ic_t2o_mou_7'])/2\n",
    "action_phase_df['std_ic_mou_'] = (action_phase_df['std_ic_mou_6'] + action_phase_df['std_ic_mou_7'])/2\n",
    "action_phase_df['total_ic_mou_'] = (action_phase_df['total_ic_mou_6'] + action_phase_df['total_ic_mou_7'])/2\n",
    "action_phase_df['spl_ic_mou_'] = (action_phase_df['spl_ic_mou_6'] + action_phase_df['spl_ic_mou_7'])/2\n",
    "\n",
    "\n",
    "action_phase_df['isd_ic_mou_'] = (action_phase_df['isd_ic_mou_6'] + action_phase_df['isd_ic_mou_7'])/2\n",
    "action_phase_df['ic_others_'] = (action_phase_df['ic_others_6'] + action_phase_df['ic_others_7'])/2\n",
    "action_phase_df['total_rech_num_'] = (action_phase_df['total_rech_num_6'] + action_phase_df['total_rech_num_7'])/2\n",
    "action_phase_df['total_rech_amt_'] = (action_phase_df['total_rech_amt_6'] + action_phase_df['total_rech_amt_7'])/2\n",
    "action_phase_df['max_rech_amt_'] = (action_phase_df['max_rech_amt_6'] + action_phase_df['max_rech_amt_7'])/2\n",
    "action_phase_df['last_day_rch_amt_'] = (action_phase_df['last_day_rch_amt_6'] + action_phase_df['last_day_rch_amt_7'])/2\n",
    "action_phase_df['vol_2g_mb_'] = (action_phase_df['vol_2g_mb_6'] + action_phase_df['vol_2g_mb_7'])/2\n",
    "\n",
    "action_phase_df['vol_3g_mb_'] = (action_phase_df['vol_3g_mb_6'] + action_phase_df['vol_3g_mb_7'])/2\n",
    "action_phase_df['monthly_2g_'] = (action_phase_df['monthly_2g_6'] + action_phase_df['monthly_2g_7'])/2\n",
    "action_phase_df['sachet_2g_'] = (action_phase_df['sachet_2g_6'] + action_phase_df['sachet_2g_7'])/2\n",
    "action_phase_df['monthly_3g_'] = (action_phase_df['monthly_3g_6'] + action_phase_df['monthly_3g_7'])/2\n",
    "action_phase_df['sachet_3g_'] = (action_phase_df['sachet_3g_6'] + action_phase_df['sachet_3g_7'])/2\n",
    "\n",
    "\n",
    "\n",
    "good_action_df = action_phase_df.drop(columns=good_phase_attributes6,axis=1)\n",
    "good_action_df = good_action_df.drop(columns=good_phase_attributes7,axis=1)"
   ]
  },
  {
   "cell_type": "code",
   "execution_count": 47,
   "metadata": {},
   "outputs": [
    {
     "data": {
      "text/plain": [
       "(27494, 96)"
      ]
     },
     "execution_count": 47,
     "metadata": {},
     "output_type": "execute_result"
    }
   ],
   "source": [
    "good_action_df.shape"
   ]
  },
  {
   "cell_type": "code",
   "execution_count": 48,
   "metadata": {},
   "outputs": [],
   "source": [
    "local_usage = good_action_df.filter(regex='loc').columns\n",
    "#local_usage\n",
    "good_action_df['loc_incoming'] = (good_action_df['loc_ic_t2o_mou']+good_action_df['loc_ic_t2t_mou_']+good_action_df['loc_ic_t2m_mou_']+good_action_df['loc_ic_t2f_mou_']+good_action_df['loc_ic_mou_'])/5\n",
    "good_action_df['loc_outgoing'] = (good_action_df['loc_og_t2o_mou']+good_action_df['loc_og_t2t_mou_']+good_action_df['loc_og_t2c_mou_']+good_action_df['loc_og_mou_'])/4\n",
    "\n",
    "good_action_df['loc_outgoing_8'] = (good_action_df['loc_og_t2t_mou_8'] + good_action_df['loc_og_t2m_mou_8']+good_action_df['loc_og_t2f_mou_8']+good_action_df['loc_og_t2c_mou_8']+good_action_df['loc_og_mou_8'])/5\n",
    "good_action_df['loc_incoming_8'] = (good_action_df['loc_ic_t2t_mou_8']+good_action_df['loc_ic_t2m_mou_8']+good_action_df['loc_ic_t2f_mou_8']+good_action_df['loc_ic_mou_8'])/4\n",
    "    \n",
    "good_action_df=good_action_df.drop(columns=local_usage,axis=1)"
   ]
  },
  {
   "cell_type": "code",
   "execution_count": 49,
   "metadata": {},
   "outputs": [
    {
     "data": {
      "text/plain": [
       "(27494, 65)"
      ]
     },
     "execution_count": 49,
     "metadata": {},
     "output_type": "execute_result"
    }
   ],
   "source": [
    "std_usage = good_action_df.filter(regex='std').columns\n",
    "#std_usage\n",
    "good_action_df['std_og'] = (good_action_df['std_og_t2o_mou']+good_action_df['std_og_t2t_mou_']+good_action_df['std_og_t2c_mou_']+good_action_df['std_og_mou_'])/4\n",
    "good_action_df['std_ic'] = (good_action_df['std_ic_t2o_mou_']+good_action_df['std_ic_t2t_mou_']+good_action_df['std_ic_t2m_mou_']+good_action_df['std_ic_t2f_mou_']+good_action_df['std_ic_mou_'])/5\n",
    "\n",
    "\n",
    "\n",
    "good_action_df['std_og_8'] = (good_action_df['std_og_t2t_mou_8'] + good_action_df['std_og_t2m_mou_8']+good_action_df['std_og_t2f_mou_8']+good_action_df['std_og_t2c_mou_8']+good_action_df['std_og_mou_8'])/5\n",
    "good_action_df['std_ic_8'] = (good_action_df['std_ic_t2t_mou_8']+good_action_df['std_ic_t2m_mou_8']+good_action_df['std_ic_t2f_mou_8']+good_action_df['std_ic_mou_8'])/4\n",
    "    \n",
    "good_action_df=good_action_df.drop(columns=std_usage,axis=1)\n",
    "\n",
    "\n",
    "good_action_df.shape"
   ]
  },
  {
   "cell_type": "markdown",
   "metadata": {},
   "source": [
    "## Model Building"
   ]
  },
  {
   "cell_type": "code",
   "execution_count": 68,
   "metadata": {},
   "outputs": [
    {
     "data": {
      "text/plain": [
       "7     1\n",
       "8     0\n",
       "13    0\n",
       "16    0\n",
       "17    0\n",
       "Name: churn, dtype: int64"
      ]
     },
     "execution_count": 68,
     "metadata": {},
     "output_type": "execute_result"
    }
   ],
   "source": [
    "from sklearn.model_selection import train_test_split\n",
    "\n",
    "# Putting feature variable to X\n",
    "X = good_action_df.drop(['churn','mobile_number','circle_id'],axis=1)\n",
    "\n",
    "# Putting response variable to y\n",
    "y = action_phase_df['churn']\n",
    "\n",
    "y.head()"
   ]
  },
  {
   "cell_type": "code",
   "execution_count": 69,
   "metadata": {},
   "outputs": [],
   "source": [
    "# Splitting the data into train and test\n",
    "X_train, X_test, y_train, y_test = train_test_split(X,y, train_size=0.7,test_size=0.3,random_state=100)"
   ]
  },
  {
   "cell_type": "code",
   "execution_count": 70,
   "metadata": {},
   "outputs": [],
   "source": [
    "scaler = StandardScaler().fit(X_train)\n",
    "X_train_scaled = scaler.transform(X_train)\n",
    "X_test_scaled = scaler.transform(X_test)"
   ]
  },
  {
   "cell_type": "code",
   "execution_count": 71,
   "metadata": {},
   "outputs": [
    {
     "data": {
      "text/plain": [
       "(19245, 62)"
      ]
     },
     "execution_count": 71,
     "metadata": {},
     "output_type": "execute_result"
    }
   ],
   "source": [
    "X_train_scaled.shape"
   ]
  },
  {
   "cell_type": "code",
   "execution_count": 72,
   "metadata": {},
   "outputs": [
    {
     "data": {
      "text/plain": [
       "6.550520113479305"
      ]
     },
     "execution_count": 72,
     "metadata": {},
     "output_type": "execute_result"
    }
   ],
   "source": [
    "### Check Balance of Churn rate data\n",
    "sum(y)/len(y)*100"
   ]
  },
  {
   "cell_type": "code",
   "execution_count": null,
   "metadata": {},
   "outputs": [],
   "source": []
  },
  {
   "cell_type": "code",
   "execution_count": 75,
   "metadata": {},
   "outputs": [],
   "source": [
    "def modelEvaluationMatrix(y_train,y_test,train_pred,predictions):\n",
    "    cm = confusion_matrix(y_test, predictions)\n",
    "    print(\"Train Accuracy :: \", accuracy_score(y_train, train_pred))\n",
    "    print(\"Test Accuracy  :: \", accuracy_score(y_test, predictions))\n",
    "    print(\" Confusion matrix \", cm)\n",
    "    print(\"Confusion Report ::\", classification_report(y_test,predictions))\n",
    "    plot_confusion_matrix(cm, classes=['Non Churn', 'Churn'], title='Confusion matrix')\n",
    "    draw_roc(y_test, predictions)"
   ]
  },
  {
   "cell_type": "code",
   "execution_count": 63,
   "metadata": {},
   "outputs": [],
   "source": [
    "import itertools\n",
    "\n",
    "def plot_confusion_matrix(cm, classes,\n",
    "                          normalize=False,\n",
    "                          title='Confusion matrix',\n",
    "                          cmap=plt.cm.Blues):\n",
    "    \"\"\"\n",
    "    This function prints and plots the confusion matrix.\n",
    "    Normalization can be applied by setting `normalize=True`.\n",
    "    \"\"\"\n",
    "    if normalize:\n",
    "        cm = cm.astype('float') / cm.sum(axis=1)[:, np.newaxis]\n",
    "        print(\"Normalized confusion matrix\")\n",
    "    else:\n",
    "        print('Confusion matrix, without normalization')\n",
    "\n",
    "    print(cm)\n",
    "\n",
    "    plt.imshow(cm, interpolation='nearest', cmap=cmap)\n",
    "    plt.title(title)\n",
    "    plt.colorbar()\n",
    "    tick_marks = np.arange(len(classes))\n",
    "    plt.xticks(tick_marks, classes, rotation=45)\n",
    "    plt.yticks(tick_marks, classes)\n",
    "\n",
    "    fmt = '.2f' if normalize else 'd'\n",
    "    thresh = cm.max() / 2.\n",
    "    for i, j in itertools.product(range(cm.shape[0]), range(cm.shape[1])):\n",
    "        plt.text(j, i, format(cm[i, j], fmt),\n",
    "                 horizontalalignment=\"center\",\n",
    "                 color=\"white\" if cm[i, j] > thresh else \"black\")\n",
    "\n",
    "    plt.ylabel('True label')\n",
    "    plt.xlabel('Predicted label')\n",
    "    plt.tight_layout()\n"
   ]
  },
  {
   "cell_type": "code",
   "execution_count": null,
   "metadata": {},
   "outputs": [],
   "source": []
  },
  {
   "cell_type": "code",
   "execution_count": 64,
   "metadata": {},
   "outputs": [],
   "source": [
    "# calculate AUC\n",
    "def plotAUC(y_test,pred_probs_test):\n",
    "    auc = roc_auc_score(y_test, pred_probs_test)\n",
    "    print('AUC: %.3f' % auc)\n",
    "    fpr, tpr, thresholds = roc_curve(y_test, pred_probs_test)\n",
    "    pyplot.plot([0, 1], [0, 1], linestyle='--')\n",
    "    pyplot.plot(fpr, tpr, marker='.')\n",
    "    # show the plot\n",
    "    pyplot.show()"
   ]
  },
  {
   "cell_type": "code",
   "execution_count": 65,
   "metadata": {},
   "outputs": [],
   "source": [
    "def draw_roc( actual, probs ):\n",
    "    fpr, tpr, thresholds = metrics.roc_curve( actual, probs,\n",
    "                                              drop_intermediate = False )\n",
    "    auc_score = metrics.roc_auc_score( actual, probs )\n",
    "    roc_auc = metrics.auc(fpr,tpr)\n",
    "    print(\"Roc and auc score:\", roc_auc)\n",
    "    # Plot ROC\n",
    "    plt.figure(figsize=(6,6))\n",
    "    plt.title('Receiver Operating Characteristic')\n",
    "    plt.plot(fpr, tpr, 'b',label='AUC = %0.3f'% roc_auc)\n",
    "    plt.legend(loc='lower right')\n",
    "    plt.plot([0,1],[0,1],'r--')\n",
    "    plt.xlim([-0.1,1.0])\n",
    "    plt.ylim([-0.1,1.01])\n",
    "    plt.ylabel('True Positive Rate')\n",
    "    plt.xlabel('False Positive Rate')\n",
    "    plt.show()\n",
    "#draw_roc(y_test, pred_probs_test)"
   ]
  },
  {
   "cell_type": "code",
   "execution_count": 73,
   "metadata": {},
   "outputs": [],
   "source": [
    "### AS Data is Inbalance, Using SMOTE technique oversmapling method"
   ]
  },
  {
   "cell_type": "code",
   "execution_count": 74,
   "metadata": {},
   "outputs": [
    {
     "name": "stdout",
     "output_type": "stream",
     "text": [
      "Before OverSampling, counts of label '1': 1263\n",
      "Before OverSampling, counts of label '0': 17982 \n",
      "\n",
      "After OverSampling, the shape of train_X: (35964, 62)\n",
      "After OverSampling, the shape of train_y: (35964,) \n",
      "\n",
      "After OverSampling, counts of label '1': 17982\n",
      "After OverSampling, counts of label '0': 17982\n"
     ]
    }
   ],
   "source": [
    "from imblearn.over_sampling import SMOTE\n",
    "\n",
    "print(\"Before OverSampling, counts of label '1': {}\".format(sum(y_train==1)))\n",
    "print(\"Before OverSampling, counts of label '0': {} \\n\".format(sum(y_train==0)))\n",
    "\n",
    "sm = SMOTE(random_state=2)\n",
    "X_train_res, y_train_res = sm.fit_sample(X_train_scaled, y_train.ravel())\n",
    "\n",
    "print('After OverSampling, the shape of train_X: {}'.format(X_train_res.shape))\n",
    "print('After OverSampling, the shape of train_y: {} \\n'.format(y_train_res.shape))\n",
    "\n",
    "print(\"After OverSampling, counts of label '1': {}\".format(sum(y_train_res==1)))\n",
    "print(\"After OverSampling, counts of label '0': {}\".format(sum(y_train_res==0)))"
   ]
  },
  {
   "cell_type": "code",
   "execution_count": 80,
   "metadata": {},
   "outputs": [
    {
     "name": "stdout",
     "output_type": "stream",
     "text": [
      "Train Accuracy ::  0.8411015848272279\n",
      "Test Accuracy  ::  0.8369499333252516\n",
      " Confusion matrix  [[6452 1259]\n",
      " [  86  452]]\n",
      "Confusion Report ::               precision    recall  f1-score   support\n",
      "\n",
      "           0       0.99      0.84      0.91      7711\n",
      "           1       0.26      0.84      0.40       538\n",
      "\n",
      "   micro avg       0.84      0.84      0.84      8249\n",
      "   macro avg       0.63      0.84      0.65      8249\n",
      "weighted avg       0.94      0.84      0.87      8249\n",
      "\n",
      "Confusion matrix, without normalization\n",
      "[[6452 1259]\n",
      " [  86  452]]\n",
      "Roc and auc score: 0.838437726436284\n"
     ]
    },
    {
     "data": {
      "image/png": "[encoded data removed]",
      "text/plain": [
       "<Figure size 432x288 with 2 Axes>"
      ]
     },
     "metadata": {
      "needs_background": "light"
     },
     "output_type": "display_data"
    },
    {
     "data": {
      "image/png": "[encoded data removed]",
      "text/plain": [
       "<Figure size 432x432 with 1 Axes>"
      ]
     },
     "metadata": {
      "needs_background": "light"
     },
     "output_type": "display_data"
    }
   ],
   "source": [
    "#### RFE with Logistic Regression to select Important Features only\n",
    "logreg = LogisticRegression()\n",
    "rfe = RFE(logreg, n_features_to_select=40)             # running RFE with 60 variables as output\n",
    "rfe = rfe.fit(X_train_res,y_train_res)\n",
    "train_pred = rfe.predict(X_train_scaled)\n",
    "predictions = rfe.predict(X_test_scaled)\n",
    "modelEvaluationMatrix(y_train,y_test,train_pred,predictions)"
   ]
  },
  {
   "cell_type": "code",
   "execution_count": 81,
   "metadata": {},
   "outputs": [
    {
     "name": "stdout",
     "output_type": "stream",
     "text": [
      "Features sorted by their rank:\n"
     ]
    },
    {
     "data": {
      "text/plain": [
       "[(1, 'aon'),\n",
       " (1, 'arpu_'),\n",
       " (1, 'arpu_8'),\n",
       " (1, 'aug_vbc_3g'),\n",
       " (1, 'av_amt_rech_good_phase'),\n",
       " (1, 'first_recharge_gap'),\n",
       " (1, 'ic_others_'),\n",
       " (1, 'isd_ic_mou_'),\n",
       " (1, 'isd_ic_mou_8'),\n",
       " (1, 'isd_og_mou_8'),\n",
       " (1, 'jul_vbc_3g'),\n",
       " (1, 'last_day_rch_amt_8'),\n",
       " (1, 'loc_incoming'),\n",
       " (1, 'loc_incoming_8'),\n",
       " (1, 'loc_outgoing_8'),\n",
       " (1, 'max_rech_amt_8'),\n",
       " (1, 'monthly_2g_'),\n",
       " (1, 'monthly_2g_8'),\n",
       " (1, 'monthly_3g_'),\n",
       " (1, 'monthly_3g_8'),\n",
       " (1, 'offnet_mou_'),\n",
       " (1, 'offnet_mou_8'),\n",
       " (1, 'onnet_mou_8'),\n",
       " (1, 'roam_ic_mou_'),\n",
       " (1, 'sachet_2g_8'),\n",
       " (1, 'second_recharge_gap'),\n",
       " (1, 'sep_vbc_3g'),\n",
       " (1, 'spl_ic_mou_8'),\n",
       " (1, 'std_ic'),\n",
       " (1, 'std_ic_8'),\n",
       " (1, 'std_og'),\n",
       " (1, 'std_og_8'),\n",
       " (1, 'third_recharge_gap'),\n",
       " (1, 'total_ic_mou_'),\n",
       " (1, 'total_ic_mou_8'),\n",
       " (1, 'total_og_mou_'),\n",
       " (1, 'total_og_mou_8'),\n",
       " (1, 'total_rech_amt_'),\n",
       " (1, 'total_rech_amt_8'),\n",
       " (1, 'vol_2g_mb_8'),\n",
       " (2, 'vol_3g_mb_8'),\n",
       " (3, 'max_rech_amt_'),\n",
       " (4, 'last_day_rch_amt_'),\n",
       " (5, 'total_rech_num_8'),\n",
       " (6, 'spl_og_mou_8'),\n",
       " (7, 'vol_3g_mb_'),\n",
       " (8, 'vol_2g_mb_'),\n",
       " (9, 'roam_og_mou_'),\n",
       " (10, 'jun_vbc_3g'),\n",
       " (11, 'ic_others_8'),\n",
       " (12, 'isd_og_mou_'),\n",
       " (13, 'loc_outgoing'),\n",
       " (14, 'sachet_3g_'),\n",
       " (15, 'sachet_3g_8'),\n",
       " (16, 'og_others_8'),\n",
       " (17, 'og_others_'),\n",
       " (18, 'roam_og_mou_8'),\n",
       " (19, 'roam_ic_mou_8'),\n",
       " (20, 'sachet_2g_'),\n",
       " (21, 'spl_ic_mou_'),\n",
       " (22, 'total_rech_num_'),\n",
       " (23, 'spl_og_mou_')]"
      ]
     },
     "execution_count": 81,
     "metadata": {},
     "output_type": "execute_result"
    }
   ],
   "source": [
    "print(\"Features sorted by their rank:\")\n",
    "sorted(zip(map(lambda x: round(x, 4), rfe.ranking_), X_train.columns))"
   ]
  },
  {
   "cell_type": "code",
   "execution_count": 82,
   "metadata": {},
   "outputs": [],
   "source": [
    "\n",
    "#help(RandomForestClassifier)"
   ]
  },
  {
   "cell_type": "code",
   "execution_count": 86,
   "metadata": {},
   "outputs": [
    {
     "name": "stdout",
     "output_type": "stream",
     "text": [
      "Train Accuracy ::  1.0\n",
      "Test Accuracy  ::  0.940477633652564\n",
      " Confusion matrix  [[7386  325]\n",
      " [ 166  372]]\n",
      "Confusion Report ::               precision    recall  f1-score   support\n",
      "\n",
      "           0       0.98      0.96      0.97      7711\n",
      "           1       0.53      0.69      0.60       538\n",
      "\n",
      "   micro avg       0.94      0.94      0.94      8249\n",
      "   macro avg       0.76      0.82      0.79      8249\n",
      "weighted avg       0.95      0.94      0.94      8249\n",
      "\n",
      "Confusion matrix, without normalization\n",
      "[[7386  325]\n",
      " [ 166  372]]\n",
      "Roc and auc score: 0.8246511163745704\n"
     ]
    },
    {
     "data": {
      "image/png": "[encoded data removed]",
      "text/plain": [
       "<Figure size 432x288 with 2 Axes>"
      ]
     },
     "metadata": {
      "needs_background": "light"
     },
     "output_type": "display_data"
    },
    {
     "data": {
      "image/png": "[encoded data removed]",
      "text/plain": [
       "<Figure size 432x432 with 1 Axes>"
      ]
     },
     "metadata": {
      "needs_background": "light"
     },
     "output_type": "display_data"
    }
   ],
   "source": [
    "# Instantiate model with 1000 decision trees\n",
    "rf = RandomForestClassifier(n_estimators = 100,random_state=432)\n",
    "# Train the model on training data\n",
    "rf.fit(X_train_res, y_train_res);\n",
    "train_pred = rf.predict(X_train_scaled)\n",
    "predictions = rf.predict(X_test_scaled)\n",
    "modelEvaluationMatrix(y_train,y_test,train_pred,predictions)"
   ]
  },
  {
   "cell_type": "code",
   "execution_count": 87,
   "metadata": {},
   "outputs": [
    {
     "data": {
      "text/html": [
       "<div>\n",
       "<style scoped>\n",
       "    .dataframe tbody tr th:only-of-type {\n",
       "        vertical-align: middle;\n",
       "    }\n",
       "\n",
       "    .dataframe tbody tr th {\n",
       "        vertical-align: top;\n",
       "    }\n",
       "\n",
       "    .dataframe thead th {\n",
       "        text-align: right;\n",
       "    }\n",
       "</style>\n",
       "<table border=\"1\" class=\"dataframe\">\n",
       "  <thead>\n",
       "    <tr style=\"text-align: right;\">\n",
       "      <th></th>\n",
       "      <th>importance</th>\n",
       "    </tr>\n",
       "  </thead>\n",
       "  <tbody>\n",
       "    <tr>\n",
       "      <th>roam_ic_mou_8</th>\n",
       "      <td>0.144953</td>\n",
       "    </tr>\n",
       "    <tr>\n",
       "      <th>roam_og_mou_8</th>\n",
       "      <td>0.136558</td>\n",
       "    </tr>\n",
       "    <tr>\n",
       "      <th>total_ic_mou_8</th>\n",
       "      <td>0.067470</td>\n",
       "    </tr>\n",
       "    <tr>\n",
       "      <th>total_rech_amt_8</th>\n",
       "      <td>0.042326</td>\n",
       "    </tr>\n",
       "    <tr>\n",
       "      <th>total_og_mou_8</th>\n",
       "      <td>0.040219</td>\n",
       "    </tr>\n",
       "    <tr>\n",
       "      <th>last_day_rch_amt_8</th>\n",
       "      <td>0.039967</td>\n",
       "    </tr>\n",
       "    <tr>\n",
       "      <th>loc_incoming_8</th>\n",
       "      <td>0.039271</td>\n",
       "    </tr>\n",
       "    <tr>\n",
       "      <th>arpu_8</th>\n",
       "      <td>0.038559</td>\n",
       "    </tr>\n",
       "    <tr>\n",
       "      <th>loc_outgoing_8</th>\n",
       "      <td>0.033064</td>\n",
       "    </tr>\n",
       "    <tr>\n",
       "      <th>second_recharge_gap</th>\n",
       "      <td>0.023650</td>\n",
       "    </tr>\n",
       "    <tr>\n",
       "      <th>max_rech_amt_8</th>\n",
       "      <td>0.023217</td>\n",
       "    </tr>\n",
       "    <tr>\n",
       "      <th>roam_og_mou_</th>\n",
       "      <td>0.021716</td>\n",
       "    </tr>\n",
       "    <tr>\n",
       "      <th>roam_ic_mou_</th>\n",
       "      <td>0.018652</td>\n",
       "    </tr>\n",
       "    <tr>\n",
       "      <th>total_rech_num_8</th>\n",
       "      <td>0.015130</td>\n",
       "    </tr>\n",
       "    <tr>\n",
       "      <th>third_recharge_gap</th>\n",
       "      <td>0.015069</td>\n",
       "    </tr>\n",
       "    <tr>\n",
       "      <th>loc_incoming</th>\n",
       "      <td>0.014584</td>\n",
       "    </tr>\n",
       "    <tr>\n",
       "      <th>std_og</th>\n",
       "      <td>0.012366</td>\n",
       "    </tr>\n",
       "    <tr>\n",
       "      <th>aon</th>\n",
       "      <td>0.011870</td>\n",
       "    </tr>\n",
       "    <tr>\n",
       "      <th>offnet_mou_8</th>\n",
       "      <td>0.011774</td>\n",
       "    </tr>\n",
       "    <tr>\n",
       "      <th>loc_outgoing</th>\n",
       "      <td>0.010688</td>\n",
       "    </tr>\n",
       "  </tbody>\n",
       "</table>\n",
       "</div>"
      ],
      "text/plain": [
       "                     importance\n",
       "roam_ic_mou_8          0.144953\n",
       "roam_og_mou_8          0.136558\n",
       "total_ic_mou_8         0.067470\n",
       "total_rech_amt_8       0.042326\n",
       "total_og_mou_8         0.040219\n",
       "last_day_rch_amt_8     0.039967\n",
       "loc_incoming_8         0.039271\n",
       "arpu_8                 0.038559\n",
       "loc_outgoing_8         0.033064\n",
       "second_recharge_gap    0.023650\n",
       "max_rech_amt_8         0.023217\n",
       "roam_og_mou_           0.021716\n",
       "roam_ic_mou_           0.018652\n",
       "total_rech_num_8       0.015130\n",
       "third_recharge_gap     0.015069\n",
       "loc_incoming           0.014584\n",
       "std_og                 0.012366\n",
       "aon                    0.011870\n",
       "offnet_mou_8           0.011774\n",
       "loc_outgoing           0.010688"
      ]
     },
     "execution_count": 87,
     "metadata": {},
     "output_type": "execute_result"
    }
   ],
   "source": [
    "### Important Features\n",
    "feature_importances = pd.DataFrame(rf.feature_importances_,index = X_train.columns,columns=['importance']).sort_values('importance',ascending=False)\n",
    "feature_importances[0:20]"
   ]
  },
  {
   "cell_type": "code",
   "execution_count": null,
   "metadata": {},
   "outputs": [],
   "source": []
  },
  {
   "cell_type": "code",
   "execution_count": 88,
   "metadata": {},
   "outputs": [
    {
     "name": "stdout",
     "output_type": "stream",
     "text": [
      "Train Accuracy ::  0.9142197753308865\n",
      "Test Accuracy  ::  0.8913807734270821\n",
      " Confusion matrix  [[6919  792]\n",
      " [ 104  434]]\n",
      "Confusion Report ::               precision    recall  f1-score   support\n",
      "\n",
      "           0       0.99      0.90      0.94      7711\n",
      "           1       0.35      0.81      0.49       538\n",
      "\n",
      "   micro avg       0.89      0.89      0.89      8249\n",
      "   macro avg       0.67      0.85      0.72      8249\n",
      "weighted avg       0.94      0.89      0.91      8249\n",
      "\n",
      "Confusion matrix, without normalization\n",
      "[[6919  792]\n",
      " [ 104  434]]\n",
      "Roc and auc score: 0.8519905180597023\n"
     ]
    },
    {
     "data": {
      "image/png": "[encoded data removed]",
      "text/plain": [
       "<Figure size 432x288 with 2 Axes>"
      ]
     },
     "metadata": {
      "needs_background": "light"
     },
     "output_type": "display_data"
    },
    {
     "data": {
      "image/png": "[encoded data removed]",
      "text/plain": [
       "<Figure size 432x432 with 1 Axes>"
      ]
     },
     "metadata": {
      "needs_background": "light"
     },
     "output_type": "display_data"
    }
   ],
   "source": [
    "svclassifier = svm.SVC(kernel='rbf',C=1,gamma=0.01)  \n",
    "svclassifier.fit(X_train_res, y_train_res) \n",
    "y_pred = svclassifier.predict(X_test_scaled) \n",
    "train_pred = svclassifier.predict(X_train_res)  \n",
    "modelEvaluationMatrix(y_train_res,y_test,train_pred,y_pred)"
   ]
  },
  {
   "cell_type": "code",
   "execution_count": 89,
   "metadata": {},
   "outputs": [
    {
     "name": "stdout",
     "output_type": "stream",
     "text": [
      "Train Accuracy ::  0.9534812590368146\n",
      "Test Accuracy  ::  0.927506364407807\n",
      " Confusion matrix  [[7245  466]\n",
      " [ 132  406]]\n",
      "Confusion Report ::               precision    recall  f1-score   support\n",
      "\n",
      "           0       0.98      0.94      0.96      7711\n",
      "           1       0.47      0.75      0.58       538\n",
      "\n",
      "   micro avg       0.93      0.93      0.93      8249\n",
      "   macro avg       0.72      0.85      0.77      8249\n",
      "weighted avg       0.95      0.93      0.94      8249\n",
      "\n",
      "Confusion matrix, without normalization\n",
      "[[7245  466]\n",
      " [ 132  406]]\n",
      "Roc and auc score: 0.8471068463485032\n"
     ]
    },
    {
     "data": {
      "image/png": "[encoded data removed]",
      "text/plain": [
       "<Figure size 432x288 with 2 Axes>"
      ]
     },
     "metadata": {
      "needs_background": "light"
     },
     "output_type": "display_data"
    },
    {
     "data": {
      "image/png": "[encoded data removed]",
      "text/plain": [
       "<Figure size 432x432 with 1 Axes>"
      ]
     },
     "metadata": {
      "needs_background": "light"
     },
     "output_type": "display_data"
    }
   ],
   "source": [
    "### XGBoost classification\n",
    "\n",
    "from xgboost import XGBClassifier\n",
    "model = XGBClassifier()\n",
    "model.fit(X_train_res, y_train_res)\n",
    "# make predictions for test data\n",
    "y_pred = model.predict(X_test_scaled)\n",
    "predictions = [round(value) for value in y_pred]\n",
    "train_pred = model.predict(X_train_res)\n",
    "predictions_train = [round(value) for value in train_pred]\n",
    "#predictions = rf.predict(X_test_scaled)\n",
    "modelEvaluationMatrix(y_train_res,y_test,train_pred,predictions)"
   ]
  },
  {
   "cell_type": "markdown",
   "metadata": {},
   "source": [
    "#### PCA Implementation"
   ]
  },
  {
   "cell_type": "code",
   "execution_count": 90,
   "metadata": {},
   "outputs": [
    {
     "data": {
      "text/plain": [
       "PCA(copy=True, iterated_power='auto', n_components=None, random_state=42,\n",
       "  svd_solver='randomized', tol=0.0, whiten=False)"
      ]
     },
     "execution_count": 90,
     "metadata": {},
     "output_type": "execute_result"
    }
   ],
   "source": [
    "#Improting the PCA module\n",
    "pca = PCA(svd_solver='randomized', random_state=42)\n",
    "#Doing the PCA on the train data\n",
    "pca.fit(X_train_res)"
   ]
  },
  {
   "cell_type": "code",
   "execution_count": 91,
   "metadata": {},
   "outputs": [
    {
     "data": {
      "image/png": "[encoded data removed]",
      "text/plain": [
       "<Figure size 864x576 with 1 Axes>"
      ]
     },
     "metadata": {
      "needs_background": "light"
     },
     "output_type": "display_data"
    }
   ],
   "source": [
    "#Making the screeplot - plotting the cumulative variance against the number of components\n",
    "%matplotlib inline\n",
    "fig = plt.figure(figsize = (12,8))\n",
    "plt.plot(np.cumsum(pca.explained_variance_ratio_))\n",
    "plt.xlabel('number of components')\n",
    "plt.ylabel('cumulative explained variance')\n",
    "plt.show()"
   ]
  },
  {
   "cell_type": "code",
   "execution_count": 92,
   "metadata": {},
   "outputs": [
    {
     "data": {
      "text/plain": [
       "array([0.12685026, 0.22523122, 0.30703795, 0.3576943 , 0.40464147,\n",
       "       0.45082654, 0.48937567, 0.52632936, 0.56156023, 0.58936368,\n",
       "       0.6148625 , 0.63963775, 0.66368191, 0.68570669, 0.70617241,\n",
       "       0.72597309, 0.7452413 , 0.76367451, 0.78041537, 0.79445624,\n",
       "       0.80821698, 0.82127299, 0.8336634 , 0.84485968, 0.8556862 ,\n",
       "       0.86631151, 0.87615842, 0.88562985, 0.89421444, 0.90192749,\n",
       "       0.9088559 , 0.91560322, 0.92187788, 0.92787399, 0.93345118,\n",
       "       0.93874483, 0.94368925, 0.94855539, 0.95336832, 0.95790604,\n",
       "       0.96219692, 0.96639375, 0.97038182, 0.97427874, 0.97798272,\n",
       "       0.98145608, 0.98486963, 0.98796145, 0.99089827, 0.99318733,\n",
       "       0.99537549, 0.99730597, 0.99822503, 0.9989057 , 0.99935947,\n",
       "       0.99968563, 0.99994717, 0.999993  , 0.99999775, 0.99999992,\n",
       "       1.        , 1.        ])"
      ]
     },
     "execution_count": 92,
     "metadata": {},
     "output_type": "execute_result"
    }
   ],
   "source": [
    "np.cumsum(pca.explained_variance_ratio_)"
   ]
  },
  {
   "cell_type": "code",
   "execution_count": 94,
   "metadata": {},
   "outputs": [
    {
     "data": {
      "text/plain": [
       "(35964, 30)"
      ]
     },
     "execution_count": 94,
     "metadata": {},
     "output_type": "execute_result"
    }
   ],
   "source": [
    "#Using incremental PCA for efficiency - saves a lot of time on larger datasets\n",
    "from sklearn.decomposition import IncrementalPCA\n",
    "pca_final = IncrementalPCA(n_components=30)\n",
    "\n",
    "df_train_pca = pca_final.fit_transform(X_train_res)\n",
    "df_train_pca.shape"
   ]
  },
  {
   "cell_type": "code",
   "execution_count": 95,
   "metadata": {},
   "outputs": [
    {
     "data": {
      "text/plain": [
       "(8249, 30)"
      ]
     },
     "execution_count": 95,
     "metadata": {},
     "output_type": "execute_result"
    }
   ],
   "source": [
    "#Applying selected components to the test data - 16 components\n",
    "df_test_pca = pca_final.transform(X_test_scaled)\n",
    "df_test_pca.shape"
   ]
  },
  {
   "cell_type": "markdown",
   "metadata": {},
   "source": [
    "#### Applying a logistic regression on our Principal Components\n"
   ]
  },
  {
   "cell_type": "code",
   "execution_count": 97,
   "metadata": {},
   "outputs": [
    {
     "name": "stdout",
     "output_type": "stream",
     "text": [
      "Train Accuracy ::  0.8329162495829162\n",
      "Test Accuracy  ::  0.813674384773912\n",
      " Confusion matrix  [[6261 1450]\n",
      " [  87  451]]\n",
      "Confusion Report ::               precision    recall  f1-score   support\n",
      "\n",
      "           0       0.99      0.81      0.89      7711\n",
      "           1       0.24      0.84      0.37       538\n",
      "\n",
      "   micro avg       0.81      0.81      0.81      8249\n",
      "   macro avg       0.61      0.83      0.63      8249\n",
      "weighted avg       0.94      0.81      0.86      8249\n",
      "\n",
      "Confusion matrix, without normalization\n",
      "[[6261 1450]\n",
      " [  87  451]]\n",
      "Roc and auc score: 0.8251234537249205\n"
     ]
    },
    {
     "data": {
      "image/png": "[encoded data removed]",
      "text/plain": [
       "<Figure size 432x288 with 2 Axes>"
      ]
     },
     "metadata": {
      "needs_background": "light"
     },
     "output_type": "display_data"
    },
    {
     "data": {
      "image/png": "[encoded data removed]",
      "text/plain": [
       "<Figure size 432x432 with 1 Axes>"
      ]
     },
     "metadata": {
      "needs_background": "light"
     },
     "output_type": "display_data"
    },
    {
     "name": "stdout",
     "output_type": "stream",
     "text": [
      "Train Accuracy ::  1.0\n",
      "Test Accuracy  ::  0.9207176627469996\n",
      " Confusion matrix  [[7295  416]\n",
      " [ 238  300]]\n",
      "Confusion Report ::               precision    recall  f1-score   support\n",
      "\n",
      "           0       0.97      0.95      0.96      7711\n",
      "           1       0.42      0.56      0.48       538\n",
      "\n",
      "   micro avg       0.92      0.92      0.92      8249\n",
      "   macro avg       0.69      0.75      0.72      8249\n",
      "weighted avg       0.93      0.92      0.93      8249\n",
      "\n",
      "Confusion matrix, without normalization\n",
      "[[7295  416]\n",
      " [ 238  300]]\n",
      "Roc and auc score: 0.751835956840491\n"
     ]
    },
    {
     "data": {
      "image/png": "[encoded data removed]",
      "text/plain": [
       "<Figure size 432x288 with 2 Axes>"
      ]
     },
     "metadata": {
      "needs_background": "light"
     },
     "output_type": "display_data"
    },
    {
     "data": {
      "image/png": "[encoded data removed]",
      "text/plain": [
       "<Figure size 432x432 with 1 Axes>"
      ]
     },
     "metadata": {
      "needs_background": "light"
     },
     "output_type": "display_data"
    }
   ],
   "source": [
    "#Training the model on the train data\n",
    "\n",
    "logistic_pca = LogisticRegression()\n",
    "model_logpca = logistic_pca.fit(df_train_pca,y_train_res)\n",
    "\n",
    "#Making prediction on the test data\n",
    "pred_probs_test = model_logpca.predict(df_test_pca)\n",
    "pred_probs_train = model_logpca.predict(df_train_pca)\n",
    "\n",
    "\n",
    "modelEvaluationMatrix(y_train_res,y_test,pred_probs_train, pred_probs_test)\n",
    "\n",
    "#Training the model on the train data\n",
    "\n",
    "learner_pca = RandomForestClassifier(n_estimators=100,random_state=42)\n",
    "model_pca = learner_pca.fit(df_train_pca,y_train_res)\n",
    "\n",
    "#Making prediction on the test data\n",
    "pred_probs_test = model_pca.predict(df_test_pca)\n",
    "pred_probs_train = model_pca.predict(df_train_pca)\n",
    "\n",
    "\n",
    "modelEvaluationMatrix(y_train_res,y_test,pred_probs_train, pred_probs_test)\n"
   ]
  },
  {
   "cell_type": "code",
   "execution_count": 98,
   "metadata": {},
   "outputs": [
    {
     "name": "stdout",
     "output_type": "stream",
     "text": [
      "Best accuracy: 0.935\n",
      "\n",
      "Best params:\n",
      " {'clf__C': 10, 'clf__gamma': 0.0001, 'pca__n_components': 40}\n"
     ]
    }
   ],
   "source": [
    "pipe_svm = Pipeline([('pca', PCA()),\n",
    "\t\t\t('clf', svm.SVC(random_state=42))])\n",
    "\n",
    "# Set grid search params\n",
    "grid_params = [{'pca__n_components': [30, 40, 60],\n",
    "    'clf__gamma': [1e-2, 1e-3, 1e-4],\n",
    "    'clf__C': [1, 10, 100, 1000]}]\n",
    "\n",
    " # creating a KFold object with 5 splits \n",
    "folds = KFold(n_splits = 5, shuffle = True, random_state = 101)\n",
    "\n",
    "gs = GridSearchCV(estimator=pipe_svm,\n",
    "\t\t\tparam_grid=grid_params,\n",
    "\t\t\tscoring='accuracy',\n",
    "\t\t\tcv=folds)\n",
    "\n",
    "# Fit using grid search\n",
    "gs.fit(X_train, y_train)\n",
    "\n",
    "# Best accuracy\n",
    "print('Best accuracy: %.3f' % gs.best_score_)\n",
    "\n",
    "# Best params\n",
    "print('\\nBest params:\\n', gs.best_params_)"
   ]
  },
  {
   "cell_type": "code",
   "execution_count": 99,
   "metadata": {},
   "outputs": [
    {
     "data": {
      "text/plain": [
       "Pipeline(memory=None,\n",
       "     steps=[('pca', PCA(copy=True, iterated_power='auto', n_components=40, random_state=None,\n",
       "  svd_solver='auto', tol=0.0, whiten=False)), ('clf', SVC(C=10, cache_size=200, class_weight=None, coef0=0.0,\n",
       "  decision_function_shape='ovr', degree=3, gamma=0.0001, kernel='rbf',\n",
       "  max_iter=-1, probability=False, random_state=42, shrinking=True,\n",
       "  tol=0.001, verbose=False))])"
      ]
     },
     "execution_count": 99,
     "metadata": {},
     "output_type": "execute_result"
    }
   ],
   "source": [
    "gs.best_estimator_"
   ]
  },
  {
   "cell_type": "code",
   "execution_count": 100,
   "metadata": {},
   "outputs": [
    {
     "data": {
      "text/plain": [
       "{'clf__C': 10, 'clf__gamma': 0.0001, 'pca__n_components': 40}"
      ]
     },
     "execution_count": 100,
     "metadata": {},
     "output_type": "execute_result"
    }
   ],
   "source": [
    "gs.best_params_"
   ]
  },
  {
   "cell_type": "code",
   "execution_count": 101,
   "metadata": {},
   "outputs": [
    {
     "name": "stdout",
     "output_type": "stream",
     "text": [
      "Train Accuracy ::  0.8439550661772884\n",
      "Test Accuracy  ::  0.8354952115407929\n",
      " Confusion matrix  [[6446 1265]\n",
      " [  92  446]]\n",
      "Confusion Report ::               precision    recall  f1-score   support\n",
      "\n",
      "           0       0.99      0.84      0.90      7711\n",
      "           1       0.26      0.83      0.40       538\n",
      "\n",
      "   micro avg       0.84      0.84      0.84      8249\n",
      "   macro avg       0.62      0.83      0.65      8249\n",
      "weighted avg       0.94      0.84      0.87      8249\n",
      "\n",
      "Confusion matrix, without normalization\n",
      "[[6446 1265]\n",
      " [  92  446]]\n",
      "Roc and auc score: 0.8324724636605169\n"
     ]
    },
    {
     "data": {
      "image/png": "[encoded data removed]",
      "text/plain": [
       "<Figure size 432x288 with 2 Axes>"
      ]
     },
     "metadata": {
      "needs_background": "light"
     },
     "output_type": "display_data"
    },
    {
     "data": {
      "image/png": "[encoded data removed]",
      "text/plain": [
       "<Figure size 432x432 with 1 Axes>"
      ]
     },
     "metadata": {
      "needs_background": "light"
     },
     "output_type": "display_data"
    }
   ],
   "source": [
    "#Model with best params\n",
    "pca_final = IncrementalPCA(n_components=40)\n",
    "\n",
    "df_train_pca = pca_final.fit_transform(X_train_res)\n",
    "df_test_pca = pca_final.transform(X_test_scaled)\n",
    "\n",
    "\n",
    "svclassifier = svm.SVC(C=10, cache_size=200, class_weight=None, coef0=0.0,\n",
    "  decision_function_shape='ovr', degree=3, gamma=0.0001, kernel='rbf',\n",
    "  max_iter=-1, probability=False, random_state=42, shrinking=True,\n",
    "  tol=0.001, verbose=False)  \n",
    "svclassifier.fit(df_train_pca, y_train_res) \n",
    "y_pred = svclassifier.predict(df_test_pca) \n",
    "train_pred = svclassifier.predict(df_train_pca)  \n",
    "modelEvaluationMatrix(y_train_res,y_test,train_pred,y_pred)\n"
   ]
  },
  {
   "cell_type": "code",
   "execution_count": null,
   "metadata": {},
   "outputs": [],
   "source": [
    "svclassifier."
   ]
  }
 ],
 "metadata": {
  "anaconda-cloud": {},
  "kernelspec": {
   "display_name": "Python 3",
   "language": "python",
   "name": "python3"
  },
  "language_info": {
   "codemirror_mode": {
    "name": "ipython",
    "version": 3
   },
   "file_extension": ".py",
   "mimetype": "text/x-python",
   "name": "python",
   "nbconvert_exporter": "python",
   "pygments_lexer": "ipython3",
   "version": "3.7.1"
  }
 },
 "nbformat": 4,
 "nbformat_minor": 1
}
